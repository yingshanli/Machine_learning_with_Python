{
 "cells": [
  {
   "cell_type": "markdown",
   "metadata": {
    "collapsed": true
   },
   "source": [
    "# Random Forest\n",
    "\n",
    "\n",
    "Decision Trees are versatile (can do both regression and classificatiion) algorithms. \n",
    "\n",
    "Using **deep** Decision Trees we can fit complex datasets. However, it suffers from **high variance** (overfitting).\n",
    "\n",
    "One technique to reduce the high variance of Decision Trees is to train a **group of Decision Trees**, each on a different random subset of the training set. \n",
    "\n",
    "To make predictions, we just obtain the predictions of all individual trees. Then, predict the class that gets the most votes. \n",
    "\n",
    "Such an ensemble of Decision Trees is called a **Random Forest**.\n",
    "\n",
    "Despite its simplicity, this is one of the most powerful Machine Learning algorithms available today.\n",
    "\n",
    "\n",
    "## Random Forest vs. SVM & Boosting\n",
    "\n",
    "Support Vector Machines (SVMs) and boosting are very powerful for binary classification problems. However, these techniques do not extend naturally to **multi-class problems**.\n",
    "\n",
    "In principle, classification trees and forests work with any number of classes (~20 to ~30).\n",
    "\n",
    "In average, classification forests have shown good generalization, even in problems with **high dimensionality**. \n",
    "\n",
    "\n",
    "## Training Random Forests: Bagging\n",
    "\n",
    "A random decision forest is generally trained via the **bagging** method (or sometimes pasting).\n",
    "\n",
    "Bagging stands for **bootstrap aggregation**.\n",
    "\n",
    "In bootstrapping we use the same training algorithm for every predictor, but to train them on different random subsets of the training set. \n",
    "- When sampling is performed with replacement, this method is called bagging. \n",
    "- When sampling is performed without replacement, it is called pasting.\n",
    "\n",
    "\n",
    "\n",
    "## How Do Random Forests Reduce Variance to Improve Generalizability?\n",
    "\n",
    "A key aspect of random forests is the fact that its component trees are all **randomly different from one another**. \n",
    "\n",
    "This leads to **de-correlation between the individual tree predictions** and, in turn, to improved generalization.\n",
    "\n",
    "Forest randomness also helps achieve high robustness with respect to **noisy data**.\n",
    "\n",
    "\n",
    "## Randomization Techniques for Training Random Forests\n",
    "\n",
    "Randomness is injected into the trees during the training phase. \n",
    "\n",
    "Two of the most popular ways of doing so are:\n",
    "     - Random training data set sampling  (e.g., bagging) \n",
    "     - Randomized node optimization (RNO)\n",
    "\n",
    "\n",
    "Unlike bagging, RNO uses use all available training data and controls the randomness by varying the number of parameters for training.\n",
    "\n",
    "In this notebook, we will **explore the bagging method** for training Random Forests. We will also study a variant of Random Forests that is known as extremely randomized trees or **Extra-Trees**.\n"
   ]
  },
  {
   "cell_type": "markdown",
   "metadata": {},
   "source": [
    "## Dataset: MNIST\n",
    "\n",
    "\n",
    "We will use the MNIST dataset, which is a set of 70,000 small images of digits handwritten by high school students and employees of the US Census Bureau. Each image is labeled with the digit it represents.\n",
    "\n",
    "\n",
    "There are 70,000 images. Each image is 28x28 pixels, and each feature simply represents one pixel’s intensity, from 0 (white) to 255 (black).\n",
    "\n",
    "Thus, each image has 784 features. "
   ]
  },
  {
   "cell_type": "code",
   "execution_count": 24,
   "metadata": {
    "collapsed": true
   },
   "outputs": [],
   "source": [
    "import numpy as np\n",
    "import pandas as pd\n",
    "# To plot pretty figures\n",
    "%matplotlib inline\n",
    "import matplotlib as mpl\n",
    "import matplotlib.pyplot as plt\n",
    "\n",
    "\n",
    "from sklearn.datasets import fetch_mldata\n",
    "from sklearn.tree import DecisionTreeClassifier\n",
    "from sklearn.ensemble import RandomForestClassifier, ExtraTreesClassifier\n",
    "\n",
    "from sklearn.metrics import accuracy_score, confusion_matrix, precision_score, recall_score, f1_score, classification_report\n",
    "from sklearn.model_selection import train_test_split"
   ]
  },
  {
   "cell_type": "markdown",
   "metadata": {},
   "source": [
    "## Load Data and Create Data Matrix (X) and the Label Vector (y)"
   ]
  },
  {
   "cell_type": "code",
   "execution_count": 25,
   "metadata": {
    "collapsed": false
   },
   "outputs": [
    {
     "name": "stdout",
     "output_type": "stream",
     "text": [
      "(70000, 784)\n",
      "(70000,)\n"
     ]
    },
    {
     "name": "stderr",
     "output_type": "stream",
     "text": [
      "/Users/hasan/anaconda/lib/python3.5/site-packages/sklearn/utils/deprecation.py:77: DeprecationWarning: Function fetch_mldata is deprecated; fetch_mldata was deprecated in version 0.20 and will be removed in version 0.22\n",
      "  warnings.warn(msg, category=DeprecationWarning)\n",
      "/Users/hasan/anaconda/lib/python3.5/site-packages/sklearn/utils/deprecation.py:77: DeprecationWarning: Function mldata_filename is deprecated; mldata_filename was deprecated in version 0.20 and will be removed in version 0.22\n",
      "  warnings.warn(msg, category=DeprecationWarning)\n"
     ]
    }
   ],
   "source": [
    "mnist = fetch_mldata('MNIST original')\n",
    "\n",
    "X, y = mnist[\"data\"], mnist[\"target\"] \n",
    "\n",
    "print(X.shape)\n",
    "print(y.shape)"
   ]
  },
  {
   "cell_type": "markdown",
   "metadata": {},
   "source": [
    "## Split Data Into Training and Test Sets\n",
    "\n",
    "The MNIST dataset is already split into a training set (the first 60,000 images) and a test set (the last 10,000 images).\n",
    "\n",
    "We will shuffle the training set to ensure that all cross-validation folds will be similar. "
   ]
  },
  {
   "cell_type": "code",
   "execution_count": 26,
   "metadata": {
    "collapsed": true
   },
   "outputs": [],
   "source": [
    "X_train, X_test, y_train, y_test = X[:60000], X[60000:], y[:60000], y[60000:]\n",
    "\n",
    "shuffle_index = np.random.permutation(60000)\n",
    "X_train, y_train = X_train[shuffle_index], y_train[shuffle_index]"
   ]
  },
  {
   "cell_type": "markdown",
   "metadata": {},
   "source": [
    "# Finding the Discriminative Features Via Dimensionaly Reduction\n",
    "\n",
    "It is useful to **find disciminative features** for growing the tree. For this we could do feature selection or feature extraction.\n",
    "\n",
    "We have experimented with feature extraction implemented by dimensionality reduction.\n",
    "\n",
    "We applied the Principle Component Analysis (PCA) dimensionality reduction technique to project the MNIST dataset (784 features) to a lower dimensional space by retaining maximum variance. \n",
    "\n",
    "However, we observed that there was no performance improvement. Thus we removed the results that were based on PCA."
   ]
  },
  {
   "cell_type": "markdown",
   "metadata": {},
   "source": [
    "## Growing (Training) a Random Forest\n",
    "\n",
    "\n",
    "To reduce the variance of a Decision Tree we can grow Random Forest.\n",
    "\n",
    "The Random Forest algorithm introduces extra randomness when growing trees.\n",
    "\n",
    "Instead of searching for the very best feature when splitting a node, it searches for the best feature among a **random subset of features**. This results in a greater tree diversity, which trades a higher bias for a lower variance, generally yielding an overall better model. \n",
    "\n",
    "\n",
    "A Random Forest is an **ensemble of Decision Trees**. It is generally trained via the bagging method (or sometimes pasting). \n",
    "\n",
    "Instead of building a BaggingClassifier and passing it a DecisionTreeClassifier, we can instead use the **RandomForestClassifier class**, which is more convenient and optimized for Decision Trees (similarly, there is a RandomForestRegressor class for regression tasks). \n"
   ]
  },
  {
   "cell_type": "markdown",
   "metadata": {},
   "source": [
    "## Random Forest: Key Hyperparameters\n",
    "\n",
    "\n",
    "We will use the following hyperparameters of the RandomForestClassifier class. \n",
    "\n",
    "For a full list of the hyperparameters visit: https://scikit-learn.org/stable/modules/generated/sklearn.ensemble.RandomForestClassifier.html#sklearn.ensemble.RandomForestClassifier\n",
    "\n",
    "\n",
    "- n_estimators : The number of trees in the forest. Default=10\n",
    "\n",
    "\n",
    "- criterion : The function to measure the quality of a split. Supported criteria are “gini” for the Gini impurity and “entropy” for the information gain. Note: this parameter is tree-specific. Default=”gini”\n",
    "\n",
    "\n",
    "- max_depth : The maximum depth of the tree. If None, then nodes are expanded until all leaves are pure or until all leaves contain less than min_samples_split samples. Default=None\n",
    "\n",
    "\n",
    "- min_samples_split : The minimum number of samples required to split an internal node: Default=2\n",
    "\n",
    "        -- If int, then consider min_samples_split as the minimum number.\n",
    "        -- If float, then min_samples_split is a fraction and ceil(min_samples_split * n_samples) are the minimum number of samples for each split.\n",
    "        \n",
    "        \n",
    "        \n",
    "- min_samples_leaf : The minimum number of samples required to be at a leaf node. A split point at any depth will only be considered if it leaves at least min_samples_leaf training samples in each of the left and right branches. This may have the effect of smoothing the model, especially in regression. Default=1\n",
    "\n",
    "\n",
    "         -- If int, then consider min_samples_leaf as the minimum number.\n",
    "         -- If float, then min_samples_leaf is a fraction and ceil(min_samples_leaf * n_samples) are the minimum number of samples for each node.\n",
    "\n",
    "\n",
    "- max_features : The number of features to consider when looking for the best split. Default=\"auto\".\n",
    "\n",
    "        -- If int, then consider max_features features at each split.\n",
    "        -- If float, then max_features is a fraction and int(max_features * n_features) features are considered at each split.\n",
    "        -- If “auto”, then max_features=sqrt(n_features).\n",
    "        -- If “sqrt”, then max_features=sqrt(n_features) (same as “auto”).\n",
    "        -- If “log2”, then max_features=log2(n_features).\n",
    "        -- If None, then max_features=n_features.\n",
    "\n",
    "\n",
    "- max_leaf_nodes : Grow trees with max_leaf_nodes in best-first fashion. Best nodes are defined as relative reduction in impurity. If None then unlimited number of leaf nodes. Default=None\n",
    "\n",
    "\n",
    "- class_weight : Weights associated with classes in the form {class_label: weight}. If not given, all classes are supposed to have weight one. For multi-output problems, a list of dicts can be provided in the same order as the columns of y. Default=None\n",
    "\n",
    "         -- The “balanced” mode uses the values of y to automatically adjust weights inversely proportional to class frequencies in the input data as n_samples / (n_classes * np.bincount(y))\n",
    "\n",
    "\n",
    "\n",
    "- oob_score : Whether to use out-of-bag samples to estimate the generalization accuracy. Default=False\n",
    "\n",
    "        -- When using a subset of the available samples the generalization accuracy can be estimated with the out-of-bag samples by setting oob_score=True. Then, we can get the score of the training dataset obtained using an out-of-bag estimate (use the $oob\\_score\\_$ attribute)\n",
    "        \n",
    "        \n",
    "- bootstrap : Whether bootstrap samples are used when building trees. If False, the whole dataset is used to build each tree. Default=True\n",
    " \n",
    "\n",
    "- verbose : Controls the verbosity when fitting and predicting. Default=0\n"
   ]
  },
  {
   "cell_type": "code",
   "execution_count": 27,
   "metadata": {
    "collapsed": false
   },
   "outputs": [
    {
     "name": "stderr",
     "output_type": "stream",
     "text": [
      "[Parallel(n_jobs=-1)]: Using backend ThreadingBackend with 8 concurrent workers.\n",
      "[Parallel(n_jobs=-1)]: Done  34 tasks      | elapsed:    4.5s\n",
      "[Parallel(n_jobs=-1)]: Done 184 tasks      | elapsed:   22.4s\n",
      "[Parallel(n_jobs=-1)]: Done 434 tasks      | elapsed:   55.0s\n",
      "[Parallel(n_jobs=-1)]: Done 784 tasks      | elapsed:  1.6min\n",
      "[Parallel(n_jobs=-1)]: Done 1000 out of 1000 | elapsed:  2.1min finished\n",
      "[Parallel(n_jobs=8)]: Using backend ThreadingBackend with 8 concurrent workers.\n",
      "[Parallel(n_jobs=8)]: Done  34 tasks      | elapsed:    0.0s\n",
      "[Parallel(n_jobs=8)]: Done 184 tasks      | elapsed:    0.2s\n",
      "[Parallel(n_jobs=8)]: Done 434 tasks      | elapsed:    0.4s\n",
      "[Parallel(n_jobs=8)]: Done 784 tasks      | elapsed:    0.7s\n",
      "[Parallel(n_jobs=8)]: Done 1000 out of 1000 | elapsed:    0.9s finished\n"
     ]
    },
    {
     "name": "stdout",
     "output_type": "stream",
     "text": [
      "Test Accuracy:  0.9715\n",
      "\n",
      "Test Confusion Matrix:\n",
      "[[ 971    0    0    0    0    2    2    1    3    1]\n",
      " [   0 1123    3    3    0    2    2    0    1    1]\n",
      " [   6    0 1001    5    3    0    3    8    6    0]\n",
      " [   0    0    9  975    0    5    0    9    8    4]\n",
      " [   1    0    3    0  958    0    4    0    2   14]\n",
      " [   3    0    1   11    3  860    5    2    4    3]\n",
      " [   6    3    0    0    2    3  939    0    5    0]\n",
      " [   1    3   17    1    1    0    0  993    1   11]\n",
      " [   2    0    6    7    3    5    3    3  935   10]\n",
      " [   5    5    2   13   12    3    1    5    3  960]]\n",
      "\n",
      "Classification Report:\n",
      "              precision    recall  f1-score   support\n",
      "\n",
      "         0.0       0.98      0.99      0.98       980\n",
      "         1.0       0.99      0.99      0.99      1135\n",
      "         2.0       0.96      0.97      0.97      1032\n",
      "         3.0       0.96      0.97      0.96      1010\n",
      "         4.0       0.98      0.98      0.98       982\n",
      "         5.0       0.98      0.96      0.97       892\n",
      "         6.0       0.98      0.98      0.98       958\n",
      "         7.0       0.97      0.97      0.97      1028\n",
      "         8.0       0.97      0.96      0.96       974\n",
      "         9.0       0.96      0.95      0.95      1009\n",
      "\n",
      "   micro avg       0.97      0.97      0.97     10000\n",
      "   macro avg       0.97      0.97      0.97     10000\n",
      "weighted avg       0.97      0.97      0.97     10000\n",
      "\n",
      "\n",
      "Score of the training dataset obtained using an out-of-bag estimate:  0.9709666666666666\n",
      "CPU times: user 13min 54s, sys: 18.3 s, total: 14min 12s\n",
      "Wall time: 2min 48s\n"
     ]
    }
   ],
   "source": [
    "%%time\n",
    "\n",
    "forest_clf = RandomForestClassifier(n_estimators=1000, criterion=\"gini\", max_features=\"auto\", \n",
    "                                    verbose=1, max_depth=32, class_weight=\"balanced\", oob_score=True, n_jobs=-1)\n",
    "\n",
    "forest_clf.fit(X_train, y_train)\n",
    "\n",
    "y_test_predicted = forest_clf.predict(X_test)\n",
    "print(\"Test Accuracy: \", accuracy_score(y_test, y_test_predicted))\n",
    "\n",
    "print(\"\\nTest Confusion Matrix:\")\n",
    "print(confusion_matrix(y_test, y_test_predicted))\n",
    "\n",
    "print(\"\\nClassification Report:\")\n",
    "print(classification_report(y_test, y_test_predicted))\n",
    "\n",
    "print(\"\\nScore of the training dataset obtained using an out-of-bag estimate: \", forest_clf.oob_score_)"
   ]
  },
  {
   "cell_type": "markdown",
   "metadata": {},
   "source": [
    "## Random Forest: Feature Selection by Feature Importance\n",
    "\n",
    "\n",
    "**Feature Selection** is a very useful Machine Learning technique that we often use. Random Forests are very handy to get a quick understanding of what features actually matter. This helps to perform feature selection.\n",
    "\n",
    "Random Forests enable us to perform feature selection by finding the **relative importance of each feature**. \n",
    "\n",
    "A Random Forest measures a feature’s importance by looking at how much the tree nodes that use that feature reduce impurity on average (across all trees in the forest). \n",
    "\n",
    "More precisely, it is a **weighted average**, where each node’s weight is equal to the number of training samples that are associated with it.\n",
    "\n",
    "Scikit-Learn computes this score automatically for each feature after training, then it scales the results so that the sum of all importances is equal to 1. \n",
    "\n",
    "We can access the result using the $feature\\_importances\\_$ variable. \n",
    "\n",
    "Following example shows the plot of each pixel's importance in the MNIST dataset after trained by a Random Forest Classifier."
   ]
  },
  {
   "cell_type": "code",
   "execution_count": 28,
   "metadata": {
    "collapsed": false
   },
   "outputs": [
    {
     "data": {
      "image/png": "[encoded data removed]",
      "text/plain": [
       "<Figure size 864x432 with 2 Axes>"
      ]
     },
     "metadata": {},
     "output_type": "display_data"
    }
   ],
   "source": [
    "# Pixel importances on 28*28 image\n",
    "importances = forest_clf.feature_importances_\n",
    "image = importances.reshape(28, 28)\n",
    "\n",
    "# Plot pixel importances\n",
    "plt.figure(figsize=(12, 6))\n",
    "plt.title(\"MNIST Pixel Importance\")\n",
    "\n",
    "plt.imshow(image, cmap=mpl.cm.hot,interpolation=\"nearest\")\n",
    "cbar = plt.colorbar(ticks=[forest_clf.feature_importances_.min(), forest_clf.feature_importances_.max()])\n",
    "cbar.ax.set_yticklabels(['Not important', 'Very important'])\n",
    "plt.axis(\"off\")\n",
    "\n",
    "plt.show()"
   ]
  },
  {
   "cell_type": "markdown",
   "metadata": {},
   "source": [
    "## Extra-Trees\n",
    "\n",
    "Random Forests are used to reduce the variance of Decision Trees. \n",
    "\n",
    "Interestingly, we can **reduce the variance** of the Random Forests by growing **extremely randomized trees**. In Scikit-Learn it is implemented by the ExtraTreesClassifier and ExtraTreesRegressor classes.\n",
    "\n",
    "These Extra-Trees take randomness one step further by using **random thresholds** for each feature rather than searching for the best possible thresholds (like regular Decision Trees do).\n",
    "\n",
    "Thus Extra-Trees trade **more bias for a lower variance**.\n",
    "\n",
    "Extra-Trees are much faster to train than regular Random Forests since finding the best possible threshold for each feature at every node is one of the most time-consuming tasks of growing a tree.\n",
    "\n",
    "Scikit-Learn’s ExtraTreesClassifier API is identical to the RandomForestClassifier class. Similarly, the Extra TreesRegressor class has the same API as the RandomForestRegressor class.\n",
    "\n",
    "### Note:\n",
    "By deault the ExtraTreesClassifier \"bootstrap\" hyperparameter is set to False. As a consequence, the whole dataset is used to build each tree. To using the bagging method, we need to explicity set it to True.\n",
    "\n",
    "\n",
    "### RandomForestClassifier vs. ExtraTreesClassifier\n",
    "\n",
    "It is hard to tell in advance whether a RandomForestClassifier will perform better or worse than an ExtraTreesClassifier. \n",
    "\n",
    "Generally, the only way to know is to try both and compare them using cross-validation (and tuning the hyperparameters using grid search)."
   ]
  },
  {
   "cell_type": "code",
   "execution_count": 29,
   "metadata": {
    "collapsed": false
   },
   "outputs": [
    {
     "name": "stderr",
     "output_type": "stream",
     "text": [
      "[Parallel(n_jobs=-1)]: Using backend ThreadingBackend with 8 concurrent workers.\n",
      "[Parallel(n_jobs=-1)]: Done  34 tasks      | elapsed:    2.8s\n",
      "[Parallel(n_jobs=-1)]: Done 184 tasks      | elapsed:   13.7s\n",
      "[Parallel(n_jobs=-1)]: Done 434 tasks      | elapsed:   33.8s\n",
      "[Parallel(n_jobs=-1)]: Done 784 tasks      | elapsed:  1.0min\n",
      "[Parallel(n_jobs=-1)]: Done 1000 out of 1000 | elapsed:  1.3min finished\n",
      "[Parallel(n_jobs=8)]: Using backend ThreadingBackend with 8 concurrent workers.\n",
      "[Parallel(n_jobs=8)]: Done  34 tasks      | elapsed:    0.0s\n",
      "[Parallel(n_jobs=8)]: Done 184 tasks      | elapsed:    0.2s\n",
      "[Parallel(n_jobs=8)]: Done 434 tasks      | elapsed:    0.4s\n",
      "[Parallel(n_jobs=8)]: Done 784 tasks      | elapsed:    0.7s\n",
      "[Parallel(n_jobs=8)]: Done 1000 out of 1000 | elapsed:    0.9s finished\n"
     ]
    },
    {
     "name": "stdout",
     "output_type": "stream",
     "text": [
      "Test Accuracy:  0.9711\n",
      "\n",
      "Test Confusion Matrix:\n",
      "[[ 969    0    0    0    0    2    5    1    3    0]\n",
      " [   0 1123    3    3    0    1    3    0    1    1]\n",
      " [   7    0  995    5    4    0    4    9    8    0]\n",
      " [   1    0    8  978    0    5    0    9    6    3]\n",
      " [   1    0    2    0  953    0    6    1    2   17]\n",
      " [   3    0    0   10    1  865    6    1    4    2]\n",
      " [   7    3    0    0    3    2  942    0    1    0]\n",
      " [   1    4   19    1    0    0    0  987    1   15]\n",
      " [   5    0    3    8    4    4    2    3  938    7]\n",
      " [   6    6    2   11    9    3    1    5    5  961]]\n",
      "\n",
      "Classification Report:\n",
      "              precision    recall  f1-score   support\n",
      "\n",
      "         0.0       0.97      0.99      0.98       980\n",
      "         1.0       0.99      0.99      0.99      1135\n",
      "         2.0       0.96      0.96      0.96      1032\n",
      "         3.0       0.96      0.97      0.97      1010\n",
      "         4.0       0.98      0.97      0.97       982\n",
      "         5.0       0.98      0.97      0.98       892\n",
      "         6.0       0.97      0.98      0.98       958\n",
      "         7.0       0.97      0.96      0.97      1028\n",
      "         8.0       0.97      0.96      0.97       974\n",
      "         9.0       0.96      0.95      0.95      1009\n",
      "\n",
      "   micro avg       0.97      0.97      0.97     10000\n",
      "   macro avg       0.97      0.97      0.97     10000\n",
      "weighted avg       0.97      0.97      0.97     10000\n",
      "\n",
      "\n",
      "Score of the training dataset obtained using an out-of-bag estimate:  0.97045\n",
      "CPU times: user 8min 49s, sys: 17.5 s, total: 9min 6s\n",
      "Wall time: 2min\n"
     ]
    }
   ],
   "source": [
    "%%time\n",
    "\n",
    "extra_trees_clf = ExtraTreesClassifier(n_estimators=1000, criterion=\"gini\", max_features=\"auto\", \n",
    "                                    verbose=1, max_depth=32, class_weight=\"balanced\", oob_score=True, bootstrap=True, n_jobs=-1)\n",
    "extra_trees_clf.fit(X_train, y_train)\n",
    "\n",
    "\n",
    "y_test_predicted = extra_trees_clf.predict(X_test)\n",
    "print(\"Test Accuracy: \", accuracy_score(y_test, y_test_predicted))\n",
    "\n",
    "print(\"\\nTest Confusion Matrix:\")\n",
    "print(confusion_matrix(y_test, y_test_predicted))\n",
    "\n",
    "print(\"\\nClassification Report:\")\n",
    "print(classification_report(y_test, y_test_predicted))\n",
    "\n",
    "print(\"\\nScore of the training dataset obtained using an out-of-bag estimate: \", extra_trees_clf.oob_score_)"
   ]
  },
  {
   "cell_type": "markdown",
   "metadata": {},
   "source": [
    "# Summary of Results "
   ]
  },
  {
   "cell_type": "code",
   "execution_count": 30,
   "metadata": {
    "collapsed": false
   },
   "outputs": [
    {
     "data": {
      "text/html": [
       "<div>\n",
       "<style scoped>\n",
       "    .dataframe tbody tr th:only-of-type {\n",
       "        vertical-align: middle;\n",
       "    }\n",
       "\n",
       "    .dataframe tbody tr th {\n",
       "        vertical-align: top;\n",
       "    }\n",
       "\n",
       "    .dataframe thead th {\n",
       "        text-align: right;\n",
       "    }\n",
       "</style>\n",
       "<table border=\"1\" class=\"dataframe\">\n",
       "  <thead>\n",
       "    <tr style=\"text-align: right;\">\n",
       "      <th></th>\n",
       "      <th>Classifier</th>\n",
       "      <th>Accuracy</th>\n",
       "      <th>Running-Time</th>\n",
       "    </tr>\n",
       "  </thead>\n",
       "  <tbody>\n",
       "    <tr>\n",
       "      <th>0</th>\n",
       "      <td>Random Forest (1000 trees)</td>\n",
       "      <td>0.9715</td>\n",
       "      <td>2min 48s</td>\n",
       "    </tr>\n",
       "    <tr>\n",
       "      <th>1</th>\n",
       "      <td>Extra-Trees (1000 trees)</td>\n",
       "      <td>0.9711</td>\n",
       "      <td>2min</td>\n",
       "    </tr>\n",
       "  </tbody>\n",
       "</table>\n",
       "</div>"
      ],
      "text/plain": [
       "                   Classifier  Accuracy Running-Time\n",
       "0  Random Forest (1000 trees)    0.9715     2min 48s\n",
       "1    Extra-Trees (1000 trees)    0.9711         2min"
      ]
     },
     "execution_count": 30,
     "metadata": {},
     "output_type": "execute_result"
    }
   ],
   "source": [
    "data = [[\"Random Forest (1000 trees)\", 0.9715, \"2min 48s\"], \n",
    "        [\"Extra-Trees (1000 trees)\", 0.9711, \"2min\"]]\n",
    "\n",
    "pd.DataFrame(data, columns=[\"Classifier\", \"Accuracy\", \"Running-Time\"])"
   ]
  },
  {
   "cell_type": "markdown",
   "metadata": {},
   "source": [
    "## Comparative Understanding\n",
    "\n",
    "Based on the performance results we see that Extra-Trees and Random Forests are comparable. \n",
    "\n",
    "- Extra-Trees are slightly faster at the cost of slightly higher bias (i.e., slightly smaller test accuracy). \n",
    "- The performance difference is insignificant.\n",
    "\n",
    "To get a better comparative understanding we should tune the hyperparameters for these two models."
   ]
  }
 ],
 "metadata": {
  "anaconda-cloud": {},
  "kernelspec": {
   "display_name": "Python [conda root]",
   "language": "python",
   "name": "conda-root-py"
  },
  "language_info": {
   "codemirror_mode": {
    "name": "ipython",
    "version": 3
   },
   "file_extension": ".py",
   "mimetype": "text/x-python",
   "name": "python",
   "nbconvert_exporter": "python",
   "pygments_lexer": "ipython3",
   "version": "3.5.2"
  }
 },
 "nbformat": 4,
 "nbformat_minor": 1
}
