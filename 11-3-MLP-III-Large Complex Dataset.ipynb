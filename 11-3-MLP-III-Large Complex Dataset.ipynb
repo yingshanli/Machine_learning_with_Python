{
 "cells": [
  {
   "cell_type": "markdown",
   "metadata": {
    "collapsed": true
   },
   "source": [
    "# Multi-Layer Perceptron (MLP) - Large & Complex Data Set\n",
    "\n",
    "\n",
    "In this notebook we will train MLP classifier on a **large & non-linear data set**. We will use an image classification (multi-class) problem for experimentation. \n",
    "\n",
    "For a comparative understanding, we will compare the performance of the MLP with the SVM and Logistic Regression classifiers.\n",
    "\n",
    "We will use dimensionality reduction technique (Principle Component Analysis) to project the features into a smaller dimension to expedite the training time.\n",
    "\n",
    "Due to the non-linearity of the features (i.e., pixels), we will use the Gaussian Radial Basis Function (RBF) Kernel based Support Vector Machine (SVM). Previously we have seen that the Gaussian RBF Kernel based SVM performs better than Softmax regression classifier.\n",
    "\n",
    "In this notebook we will investigate whether MLP outperforms the Gaussian RBF Kernel SVM on a very large complex data set.\n",
    "\n",
    "We will conduct the following experiments.\n",
    "\n",
    "\n",
    "## Experiments\n",
    "\n",
    "- Experiment 1: Multi-Layer Perceptron \n",
    "- Experiment 2: Multi-Layer Perceptron + PCA\n",
    "- Experiment 2: Support Vector Machine (SVC with RBF Kernel) + PCA\n",
    "- Experiment 3: Logistic Regression (Softmax Regression) + PCA\n"
   ]
  },
  {
   "cell_type": "markdown",
   "metadata": {},
   "source": [
    "## Dataset: MNIST\n",
    "\n",
    "\n",
    "We will use the MNIST dataset, which is a set of 70,000 small images of digits handwritten by high school students and employees of the US Census Bureau. Each image is labeled with the digit it represents.\n",
    "\n",
    "\n",
    "There are 70,000 images. Each image is 28x28 pixels, and each feature simply represents one pixel’s intensity, from 0 (white) to 255 (black).\n",
    "\n",
    "Thus, each image has 784 features. "
   ]
  },
  {
   "cell_type": "code",
   "execution_count": 48,
   "metadata": {
    "collapsed": true
   },
   "outputs": [],
   "source": [
    "import numpy as np\n",
    "import pandas as pd\n",
    "\n",
    "\n",
    "\n",
    "from sklearn.datasets import fetch_mldata\n",
    "from sklearn.neural_network import MLPClassifier\n",
    "from sklearn.svm import SVC\n",
    "from sklearn.linear_model import LogisticRegression\n",
    "\n",
    "from sklearn.metrics import confusion_matrix, precision_score, recall_score, f1_score, classification_report\n",
    "from sklearn.model_selection import train_test_split\n",
    "\n",
    "from sklearn.preprocessing import StandardScaler\n",
    "from sklearn.decomposition import PCA"
   ]
  },
  {
   "cell_type": "markdown",
   "metadata": {},
   "source": [
    "## Load Data and Create Data Matrix (X) and the Label Vector (y)"
   ]
  },
  {
   "cell_type": "code",
   "execution_count": 37,
   "metadata": {
    "collapsed": false
   },
   "outputs": [
    {
     "name": "stdout",
     "output_type": "stream",
     "text": [
      "(70000, 784)\n",
      "(70000,)\n"
     ]
    },
    {
     "name": "stderr",
     "output_type": "stream",
     "text": [
      "/Users/hasan/anaconda/lib/python3.5/site-packages/sklearn/utils/deprecation.py:77: DeprecationWarning: Function fetch_mldata is deprecated; fetch_mldata was deprecated in version 0.20 and will be removed in version 0.22\n",
      "  warnings.warn(msg, category=DeprecationWarning)\n",
      "/Users/hasan/anaconda/lib/python3.5/site-packages/sklearn/utils/deprecation.py:77: DeprecationWarning: Function mldata_filename is deprecated; mldata_filename was deprecated in version 0.20 and will be removed in version 0.22\n",
      "  warnings.warn(msg, category=DeprecationWarning)\n"
     ]
    }
   ],
   "source": [
    "mnist = fetch_mldata('MNIST original')\n",
    "\n",
    "X, y = mnist[\"data\"], mnist[\"target\"] \n",
    "\n",
    "print(X.shape)\n",
    "print(y.shape)"
   ]
  },
  {
   "cell_type": "markdown",
   "metadata": {},
   "source": [
    "## Split Data Into Training and Test Sets\n",
    "\n",
    "The MNIST dataset is already split into a training set (the first 60,000 images) and a test set (the last 10,000 images).\n",
    "\n",
    "We will shuffle the training set to ensure that all cross-validation folds will be similar. "
   ]
  },
  {
   "cell_type": "code",
   "execution_count": 38,
   "metadata": {
    "collapsed": true
   },
   "outputs": [],
   "source": [
    "X_train, X_test, y_train, y_test = X[:60000], X[60000:], y[:60000], y[60000:]\n",
    "\n",
    "shuffle_index = np.random.permutation(60000)\n",
    "X_train, y_train = X_train[shuffle_index], y_train[shuffle_index]"
   ]
  },
  {
   "cell_type": "markdown",
   "metadata": {},
   "source": [
    "# Optimization Using Dimensionaly Reduction\n",
    "\n",
    "We can optimize the running-time of the Logistic Regression algorithm by reducing the number of features. Our assumption is that the essence or core content of the data does not span along all dimensions. The technique for reducing the dimension of data is known as dimensionality reduction.\n",
    "\n",
    "For a gentle introduction to various dimensionality reduction technique, see the notebook \"Dimensionality Reduction\" in the Github repository.\n",
    "\n",
    "We will use the Principle Component Analysis (PCA) dimensionality reduction technique to project the MNIST dataset (784 features) to a lower dimensional space by retaining maximum variance. \n",
    "\n",
    "The goal is to see the improvement in training time due to this dimensionality reduction.\n",
    "\n",
    "Before we apply the PCA, we need to standardize the data."
   ]
  },
  {
   "cell_type": "markdown",
   "metadata": {},
   "source": [
    "## Standardize the Data\n",
    "\n",
    "PCA is influenced by scale of the data. Thus we need to scale the features of the data before applying PCA. \n",
    "\n",
    "For understanding the negative effect of not scaling the data, see the following post:\n",
    "\n",
    "https://scikit-learn.org/stable/auto_examples/preprocessing/plot_scaling_importance.html#sphx-glr-auto-examples-preprocessing-plot-scaling-importance-py\n",
    "\n",
    "Note that we fit the scaler on the training set and transform on the training and test set. "
   ]
  },
  {
   "cell_type": "code",
   "execution_count": 39,
   "metadata": {
    "collapsed": false
   },
   "outputs": [
    {
     "name": "stderr",
     "output_type": "stream",
     "text": [
      "/Users/hasan/anaconda/lib/python3.5/site-packages/sklearn/utils/validation.py:595: DataConversionWarning: Data with input dtype uint8 was converted to float64 by StandardScaler.\n",
      "  warnings.warn(msg, DataConversionWarning)\n",
      "/Users/hasan/anaconda/lib/python3.5/site-packages/sklearn/utils/validation.py:595: DataConversionWarning: Data with input dtype uint8 was converted to float64 by StandardScaler.\n",
      "  warnings.warn(msg, DataConversionWarning)\n",
      "/Users/hasan/anaconda/lib/python3.5/site-packages/sklearn/utils/validation.py:595: DataConversionWarning: Data with input dtype uint8 was converted to float64 by StandardScaler.\n",
      "  warnings.warn(msg, DataConversionWarning)\n"
     ]
    }
   ],
   "source": [
    "scaler = StandardScaler()\n",
    "\n",
    "# Fit on training set only.\n",
    "scaler.fit(X_train)\n",
    "\n",
    "# Apply transform to both the training set and the test set.\n",
    "X_train = scaler.transform(X_train)\n",
    "X_test = scaler.transform(X_test)"
   ]
  },
  {
   "cell_type": "markdown",
   "metadata": {},
   "source": [
    "## Apply PCA\n",
    "\n",
    "While applying PCA we can set the number of principle components by the \"n_components\" attribute. But more importantly, we can use this attribute to determine the % of variance we want to retain in the extracted features.\n",
    "\n",
    "For example, if we set it to 0.95, sklearn will choose the **minimum number of principal components** such that 95% of the variance is retained."
   ]
  },
  {
   "cell_type": "code",
   "execution_count": 40,
   "metadata": {
    "collapsed": false
   },
   "outputs": [
    {
     "name": "stdout",
     "output_type": "stream",
     "text": [
      "CPU times: user 18 s, sys: 926 ms, total: 18.9 s\n",
      "Wall time: 5.96 s\n"
     ]
    }
   ],
   "source": [
    "%%time\n",
    "pca = PCA(n_components=0.95)\n",
    "\n",
    "pca.fit(X_train)"
   ]
  },
  {
   "cell_type": "markdown",
   "metadata": {},
   "source": [
    "## Number of Principle Components\n",
    "\n",
    "We can find how many components PCA chose after fitting the model by using the following attribute: n_components_\n",
    "\n",
    "We will see that 95% of the variance amounts to **315 principal components**."
   ]
  },
  {
   "cell_type": "code",
   "execution_count": 41,
   "metadata": {
    "collapsed": false
   },
   "outputs": [
    {
     "name": "stdout",
     "output_type": "stream",
     "text": [
      "Number of Principle Components:  331\n"
     ]
    }
   ],
   "source": [
    "print(\"Number of Principle Components: \", pca.n_components_)  "
   ]
  },
  {
   "cell_type": "markdown",
   "metadata": {},
   "source": [
    "## Apply the Mapping (Transform) to both the Training Set and the Test Set"
   ]
  },
  {
   "cell_type": "code",
   "execution_count": 42,
   "metadata": {
    "collapsed": true
   },
   "outputs": [],
   "source": [
    "X_train_pca = pca.transform(X_train)\n",
    "X_test_pca = pca.transform(X_test)"
   ]
  },
  {
   "cell_type": "markdown",
   "metadata": {},
   "source": [
    "## Experiments\n",
    "\n",
    "We will conduct the following experiments.\n",
    "\n",
    "- Experiment 1: Multi-Layer Perceptron \n",
    "- Experiment 2: Multi-Layer Perceptron + PCA\n",
    "- Experiment 2: Support Vector Machine (SVC with RBF Kernel) + PCA\n",
    "- Experiment 3: Logistic Regression (Softmax Regression) + PCA\n"
   ]
  },
  {
   "cell_type": "markdown",
   "metadata": {},
   "source": [
    "## Experiment 1: MLP \n",
    "\n",
    "First we train the MLP without applying PCA on the data. So we use 784 features.\n",
    "\n",
    "See the notebook \"Perceptron-MLP-Nonlinear Data\" for a discussion on various solvers that are used by MLP and the hyperparameters.\n",
    "\n",
    "Since the data set for this experiment is large, we will use the \"sgd\" solver. Although \"adam\" is very similar to \"sgd\", it requires a lot more epochs (set by the \"max_iter\" hyperparameter) on this data set.\n",
    "\n",
    "Although we did not do hyperparameter tunining, using multiple experimentation we converged to some near-optimal values for the parameters.\n",
    "- One hidden layer with 150 neurons worked pretty well.\n",
    "- 200 epochs was enough. Larger epochs results in overtraining that causes overfitting.\n",
    "- The regularization constant alpha was set to 0.1.\n",
    "- The'logistic' activation function performed better than 'relu'.\n",
    "- The 'learning_rate' is set to 'adaptive. It is useful for faster convergence. It will ensure that the learning rate remains large when learning takes place and is decreased when learning slows down.\n",
    "\n",
    "To prevent overfitting due to overtraining, a useful technique is to apply **early stopping**. So, the \"early_stopping\" parameter should be set to True. \n",
    "\n",
    "If we use early stopping, then we should also set the \"n_iter_no_change\" to a suitable value. It defines the maximum number of epochs to not meet tol improvement. The default is 10.\n",
    "\n",
    "We did not use these two hyperparameters as stopped training at 200 epochs.\n"
   ]
  },
  {
   "cell_type": "code",
   "execution_count": 43,
   "metadata": {
    "collapsed": false
   },
   "outputs": [
    {
     "name": "stdout",
     "output_type": "stream",
     "text": [
      "Iteration 1, loss = 0.41387661\n",
      "Iteration 2, loss = 0.25759762\n",
      "Iteration 3, loss = 0.22611659\n",
      "Iteration 4, loss = 0.20767159\n",
      "Iteration 5, loss = 0.19583482\n",
      "Iteration 6, loss = 0.18801675\n",
      "Iteration 7, loss = 0.18316432\n",
      "Iteration 8, loss = 0.17839837\n",
      "Iteration 9, loss = 0.17495118\n",
      "Iteration 10, loss = 0.17279221\n",
      "Iteration 11, loss = 0.17159208\n",
      "Iteration 12, loss = 0.16934288\n",
      "Iteration 13, loss = 0.16825178\n",
      "Iteration 14, loss = 0.16750019\n",
      "Iteration 15, loss = 0.16681934\n",
      "Iteration 16, loss = 0.16650353\n",
      "Iteration 17, loss = 0.16513859\n",
      "Iteration 18, loss = 0.16393651\n",
      "Iteration 19, loss = 0.16341908\n",
      "Iteration 20, loss = 0.16301870\n",
      "Iteration 21, loss = 0.16276893\n",
      "Iteration 22, loss = 0.16169063\n",
      "Iteration 23, loss = 0.16145966\n",
      "Iteration 24, loss = 0.16092329\n",
      "Iteration 25, loss = 0.16071513\n",
      "Iteration 26, loss = 0.15961301\n",
      "Iteration 27, loss = 0.15920282\n",
      "Iteration 28, loss = 0.15883535\n",
      "Iteration 29, loss = 0.15803681\n",
      "Iteration 30, loss = 0.15770153\n",
      "Iteration 31, loss = 0.15796250\n",
      "Iteration 32, loss = 0.15780883\n",
      "Iteration 33, loss = 0.15814015\n",
      "Iteration 34, loss = 0.15715697\n",
      "Iteration 35, loss = 0.15701181\n",
      "Iteration 36, loss = 0.15663397\n",
      "Iteration 37, loss = 0.15638246\n",
      "Iteration 38, loss = 0.15652044\n",
      "Iteration 39, loss = 0.15664014\n",
      "Iteration 40, loss = 0.15618147\n",
      "Iteration 41, loss = 0.15589575\n",
      "Iteration 42, loss = 0.15532635\n",
      "Iteration 43, loss = 0.15523636\n",
      "Iteration 44, loss = 0.15460773\n",
      "Iteration 45, loss = 0.15448379\n",
      "Iteration 46, loss = 0.15457711\n",
      "Iteration 47, loss = 0.15410838\n",
      "Iteration 48, loss = 0.15382185\n",
      "Iteration 49, loss = 0.15377391\n",
      "Iteration 50, loss = 0.15378879\n",
      "Iteration 51, loss = 0.15370181\n",
      "Iteration 52, loss = 0.15340187\n",
      "Iteration 53, loss = 0.15339133\n",
      "Iteration 54, loss = 0.15321698\n",
      "Iteration 55, loss = 0.15371112\n",
      "Iteration 56, loss = 0.15381635\n",
      "Iteration 57, loss = 0.15375814\n",
      "Iteration 58, loss = 0.15324634\n",
      "Iteration 59, loss = 0.15258181\n",
      "Iteration 60, loss = 0.15250965\n",
      "Iteration 61, loss = 0.15208988\n",
      "Iteration 62, loss = 0.15219212\n",
      "Iteration 63, loss = 0.15209592\n",
      "Iteration 64, loss = 0.15231549\n",
      "Iteration 65, loss = 0.15134534\n",
      "Iteration 66, loss = 0.15156758\n",
      "Iteration 67, loss = 0.15116187\n",
      "Iteration 68, loss = 0.15139943\n",
      "Iteration 69, loss = 0.15152309\n",
      "Iteration 70, loss = 0.15150293\n",
      "Iteration 71, loss = 0.15095463\n",
      "Iteration 72, loss = 0.15155610\n",
      "Iteration 73, loss = 0.15175162\n",
      "Iteration 74, loss = 0.15151330\n",
      "Iteration 75, loss = 0.15103055\n",
      "Iteration 76, loss = 0.15022103\n",
      "Iteration 77, loss = 0.15075833\n",
      "Iteration 78, loss = 0.15104263\n",
      "Iteration 79, loss = 0.15065439\n",
      "Iteration 80, loss = 0.15010421\n",
      "Iteration 81, loss = 0.15101393\n",
      "Iteration 82, loss = 0.15023742\n",
      "Iteration 83, loss = 0.15025673\n",
      "Iteration 84, loss = 0.15060382\n",
      "Iteration 85, loss = 0.15005319\n",
      "Iteration 86, loss = 0.15000286\n",
      "Iteration 87, loss = 0.15044345\n",
      "Iteration 88, loss = 0.15058468\n",
      "Iteration 89, loss = 0.15032648\n",
      "Iteration 90, loss = 0.14971240\n",
      "Iteration 91, loss = 0.14952482\n",
      "Iteration 92, loss = 0.14911880\n",
      "Iteration 93, loss = 0.14950851\n",
      "Iteration 94, loss = 0.14969684\n",
      "Iteration 95, loss = 0.14939884\n",
      "Iteration 96, loss = 0.14960247\n",
      "Iteration 97, loss = 0.14953180\n",
      "Iteration 98, loss = 0.14958704\n",
      "Iteration 99, loss = 0.14989045\n",
      "Iteration 100, loss = 0.14988463\n",
      "Iteration 101, loss = 0.14944336\n",
      "Iteration 102, loss = 0.14921323\n",
      "Iteration 103, loss = 0.14887605\n",
      "Iteration 104, loss = 0.14838769\n",
      "Iteration 105, loss = 0.14838910\n",
      "Iteration 106, loss = 0.14854045\n",
      "Iteration 107, loss = 0.14827274\n",
      "Iteration 108, loss = 0.14855535\n",
      "Iteration 109, loss = 0.14875562\n",
      "Iteration 110, loss = 0.14809046\n",
      "Iteration 111, loss = 0.14849660\n",
      "Iteration 112, loss = 0.14811763\n",
      "Iteration 113, loss = 0.14789590\n",
      "Iteration 114, loss = 0.14821266\n",
      "Iteration 115, loss = 0.14795482\n",
      "Iteration 116, loss = 0.14783800\n",
      "Iteration 117, loss = 0.14899439\n",
      "Iteration 118, loss = 0.14807352\n",
      "Iteration 119, loss = 0.14792231\n",
      "Iteration 120, loss = 0.14772494\n",
      "Iteration 121, loss = 0.14884358\n",
      "Iteration 122, loss = 0.14840122\n",
      "Iteration 123, loss = 0.14816749\n",
      "Iteration 124, loss = 0.14831624\n",
      "Iteration 125, loss = 0.14805341\n",
      "Iteration 126, loss = 0.14796396\n",
      "Iteration 127, loss = 0.14751086\n",
      "Iteration 128, loss = 0.14743597\n",
      "Iteration 129, loss = 0.14734872\n",
      "Iteration 130, loss = 0.14751163\n",
      "Iteration 131, loss = 0.14746727\n",
      "Iteration 132, loss = 0.14676427\n",
      "Iteration 133, loss = 0.14667933\n",
      "Iteration 134, loss = 0.14691433\n",
      "Iteration 135, loss = 0.14705841\n",
      "Iteration 136, loss = 0.14760172\n",
      "Iteration 137, loss = 0.14791063\n",
      "Iteration 138, loss = 0.14794963\n",
      "Iteration 139, loss = 0.14796363\n",
      "Iteration 140, loss = 0.14756070\n",
      "Iteration 141, loss = 0.14714529\n",
      "Iteration 142, loss = 0.14660460\n",
      "Iteration 143, loss = 0.14670063\n",
      "Iteration 144, loss = 0.14714752\n",
      "Iteration 145, loss = 0.14697498\n",
      "Iteration 146, loss = 0.14663880\n",
      "Iteration 147, loss = 0.14629701\n",
      "Iteration 148, loss = 0.14654367\n",
      "Iteration 149, loss = 0.14721185\n",
      "Iteration 150, loss = 0.14654570\n",
      "Iteration 151, loss = 0.14664267\n",
      "Iteration 152, loss = 0.14692860\n",
      "Iteration 153, loss = 0.14688969\n",
      "Iteration 154, loss = 0.14678189\n",
      "Iteration 155, loss = 0.14673332\n",
      "Iteration 156, loss = 0.14674001\n",
      "Iteration 157, loss = 0.14662260\n",
      "Iteration 158, loss = 0.14633498\n",
      "Training loss did not improve more than tol=0.000010 for 10 consecutive epochs. Setting learning rate to 0.020000\n",
      "Iteration 159, loss = 0.14069223\n",
      "Iteration 160, loss = 0.13940417\n",
      "Iteration 161, loss = 0.13914860\n",
      "Iteration 162, loss = 0.13896967\n",
      "Iteration 163, loss = 0.13888646\n",
      "Iteration 164, loss = 0.13884393\n",
      "Iteration 165, loss = 0.13877113\n",
      "Iteration 166, loss = 0.13874374\n",
      "Iteration 167, loss = 0.13872066\n",
      "Iteration 168, loss = 0.13869725\n",
      "Iteration 169, loss = 0.13863910\n",
      "Iteration 170, loss = 0.13863126\n",
      "Iteration 171, loss = 0.13860919\n",
      "Iteration 172, loss = 0.13870242\n",
      "Iteration 173, loss = 0.13861388\n",
      "Iteration 174, loss = 0.13855044\n",
      "Iteration 175, loss = 0.13860373\n",
      "Iteration 176, loss = 0.13850467\n",
      "Iteration 177, loss = 0.13849297\n",
      "Iteration 178, loss = 0.13855742\n",
      "Iteration 179, loss = 0.13845542\n",
      "Iteration 180, loss = 0.13849671\n",
      "Iteration 181, loss = 0.13844692\n",
      "Iteration 182, loss = 0.13849695\n",
      "Iteration 183, loss = 0.13847869\n",
      "Iteration 184, loss = 0.13843024\n",
      "Iteration 185, loss = 0.13845312\n",
      "Iteration 186, loss = 0.13846961\n",
      "Iteration 187, loss = 0.13846305\n",
      "Iteration 188, loss = 0.13849307\n",
      "Iteration 189, loss = 0.13837474\n",
      "Iteration 190, loss = 0.13835141\n",
      "Iteration 191, loss = 0.13842316\n",
      "Iteration 192, loss = 0.13839810\n",
      "Iteration 193, loss = 0.13843126\n",
      "Iteration 194, loss = 0.13837668\n",
      "Iteration 195, loss = 0.13836960\n",
      "Iteration 196, loss = 0.13840489\n",
      "Iteration 197, loss = 0.13836761\n",
      "Iteration 198, loss = 0.13838201\n",
      "Iteration 199, loss = 0.13831138\n",
      "Iteration 200, loss = 0.13831320\n",
      "No. of Iterations: 200\n"
     ]
    },
    {
     "name": "stderr",
     "output_type": "stream",
     "text": [
      "/Users/hasan/anaconda/lib/python3.5/site-packages/sklearn/neural_network/multilayer_perceptron.py:562: ConvergenceWarning: Stochastic Optimizer: Maximum iterations (200) reached and the optimization hasn't converged yet.\n",
      "  % self.max_iter, ConvergenceWarning)\n"
     ]
    },
    {
     "name": "stdout",
     "output_type": "stream",
     "text": [
      "\n",
      "Training Accuracy:  0.9908166666666667\n",
      "CPU times: user 13min 43s, sys: 2min 11s, total: 15min 54s\n",
      "Wall time: 4min 21s\n"
     ]
    }
   ],
   "source": [
    "%%time\n",
    "mlp_clf = MLPClassifier(hidden_layer_sizes=(150,), max_iter=200, alpha=0.1,\n",
    "                    solver='sgd', verbose=True, tol=1e-5, random_state=1, \n",
    "                    learning_rate = 'adaptive', learning_rate_init=0.1, activation='logistic')\n",
    "\n",
    "mlp_clf.fit(X_train, y_train)\n",
    "\n",
    "print(\"No. of Iterations:\", mlp_clf.n_iter_ )\n",
    "\n",
    "y_train_predicted = mlp_clf.predict(X_train)\n",
    "\n",
    "train_accuracy_mlp = np.mean(y_train_predicted == y_train)\n",
    "print(\"\\nTraining Accuracy: \", train_accuracy_mlp)"
   ]
  },
  {
   "cell_type": "markdown",
   "metadata": {},
   "source": [
    "## Experiment 1: Evaluate MLP  on Test Data"
   ]
  },
  {
   "cell_type": "code",
   "execution_count": 44,
   "metadata": {
    "collapsed": false
   },
   "outputs": [
    {
     "name": "stdout",
     "output_type": "stream",
     "text": [
      "\n",
      "Test Accuracy:  0.9752\n",
      "\n",
      "Test Confusion Matrix:\n",
      "[[ 970    0    2    1    1    2    2    1    1    0]\n",
      " [   0 1124    4    0    0    1    2    1    3    0]\n",
      " [   5    0 1000    3    3    1    3    7   10    0]\n",
      " [   0    0    5  992    0    3    0    4    3    3]\n",
      " [   1    0    2    1  962    0    6    2    2    6]\n",
      " [   2    0    0    7    2  870    4    1    5    1]\n",
      " [   7    3    3    0    4    9  929    0    3    0]\n",
      " [   1    9   10    3    2    0    0  994    1    8]\n",
      " [   5    1    2    5    4    3    2    4  946    2]\n",
      " [   4    6    1   10   12    4    0    6    1  965]]\n",
      "\n",
      "Classification Report:\n",
      "              precision    recall  f1-score   support\n",
      "\n",
      "         0.0       0.97      0.99      0.98       980\n",
      "         1.0       0.98      0.99      0.99      1135\n",
      "         2.0       0.97      0.97      0.97      1032\n",
      "         3.0       0.97      0.98      0.98      1010\n",
      "         4.0       0.97      0.98      0.98       982\n",
      "         5.0       0.97      0.98      0.97       892\n",
      "         6.0       0.98      0.97      0.97       958\n",
      "         7.0       0.97      0.97      0.97      1028\n",
      "         8.0       0.97      0.97      0.97       974\n",
      "         9.0       0.98      0.96      0.97      1009\n",
      "\n",
      "   micro avg       0.98      0.98      0.98     10000\n",
      "   macro avg       0.98      0.98      0.98     10000\n",
      "weighted avg       0.98      0.98      0.98     10000\n",
      "\n",
      "CPU times: user 289 ms, sys: 35.9 ms, total: 325 ms\n",
      "Wall time: 90.7 ms\n"
     ]
    }
   ],
   "source": [
    "%%time\n",
    "y_test_predicted = mlp_clf.predict(X_test)\n",
    "\n",
    "test_accuracy_mlp = np.mean(y_test_predicted == y_test)\n",
    "print(\"\\nTest Accuracy: \", test_accuracy_mlp)\n",
    "\n",
    "print(\"\\nTest Confusion Matrix:\")\n",
    "print(confusion_matrix(y_test, y_test_predicted))\n",
    "\n",
    "print(\"\\nClassification Report:\")\n",
    "print(classification_report(y_test, y_test_predicted))"
   ]
  },
  {
   "cell_type": "markdown",
   "metadata": {},
   "source": [
    "## Expriment 2: MLP + PCA"
   ]
  },
  {
   "cell_type": "code",
   "execution_count": 45,
   "metadata": {
    "collapsed": false
   },
   "outputs": [
    {
     "name": "stdout",
     "output_type": "stream",
     "text": [
      "Iteration 1, loss = 0.41019127\n",
      "Iteration 2, loss = 0.25623357\n",
      "Iteration 3, loss = 0.22501134\n",
      "Iteration 4, loss = 0.20832951\n",
      "Iteration 5, loss = 0.19745664\n",
      "Iteration 6, loss = 0.19024809\n",
      "Iteration 7, loss = 0.18504124\n",
      "Iteration 8, loss = 0.18141359\n",
      "Iteration 9, loss = 0.17838519\n",
      "Iteration 10, loss = 0.17618330\n",
      "Iteration 11, loss = 0.17466941\n",
      "Iteration 12, loss = 0.17273813\n",
      "Iteration 13, loss = 0.17061268\n",
      "Iteration 14, loss = 0.17042505\n",
      "Iteration 15, loss = 0.16969841\n",
      "Iteration 16, loss = 0.16898439\n",
      "Iteration 17, loss = 0.16804512\n",
      "Iteration 18, loss = 0.16753382\n",
      "Iteration 19, loss = 0.16659614\n",
      "Iteration 20, loss = 0.16568833\n",
      "Iteration 21, loss = 0.16475467\n",
      "Iteration 22, loss = 0.16453055\n",
      "Iteration 23, loss = 0.16369052\n",
      "Iteration 24, loss = 0.16375910\n",
      "Iteration 25, loss = 0.16297690\n",
      "Iteration 26, loss = 0.16286800\n",
      "Iteration 27, loss = 0.16390069\n",
      "Iteration 28, loss = 0.16280298\n",
      "Iteration 29, loss = 0.16208437\n",
      "Iteration 30, loss = 0.16162074\n",
      "Iteration 31, loss = 0.16133763\n",
      "Iteration 32, loss = 0.16071545\n",
      "Iteration 33, loss = 0.16046423\n",
      "Iteration 34, loss = 0.16013326\n",
      "Iteration 35, loss = 0.16021766\n",
      "Iteration 36, loss = 0.15948609\n",
      "Iteration 37, loss = 0.15900952\n",
      "Iteration 38, loss = 0.15878463\n",
      "Iteration 39, loss = 0.15985563\n",
      "Iteration 40, loss = 0.15933896\n",
      "Iteration 41, loss = 0.15896786\n",
      "Iteration 42, loss = 0.15814534\n",
      "Iteration 43, loss = 0.15900043\n",
      "Iteration 44, loss = 0.15820564\n",
      "Iteration 45, loss = 0.15806861\n",
      "Iteration 46, loss = 0.15774930\n",
      "Iteration 47, loss = 0.15709126\n",
      "Iteration 48, loss = 0.15685296\n",
      "Iteration 49, loss = 0.15718222\n",
      "Iteration 50, loss = 0.15669303\n",
      "Iteration 51, loss = 0.15706391\n",
      "Iteration 52, loss = 0.15657854\n",
      "Iteration 53, loss = 0.15667513\n",
      "Iteration 54, loss = 0.15736570\n",
      "Iteration 55, loss = 0.15661843\n",
      "Iteration 56, loss = 0.15663053\n",
      "Iteration 57, loss = 0.15650650\n",
      "Iteration 58, loss = 0.15576897\n",
      "Iteration 59, loss = 0.15578017\n",
      "Iteration 60, loss = 0.15534338\n",
      "Iteration 61, loss = 0.15480537\n",
      "Iteration 62, loss = 0.15539585\n",
      "Iteration 63, loss = 0.15517393\n",
      "Iteration 64, loss = 0.15545334\n",
      "Iteration 65, loss = 0.15541912\n",
      "Iteration 66, loss = 0.15540205\n",
      "Iteration 67, loss = 0.15484477\n",
      "Iteration 68, loss = 0.15473481\n",
      "Iteration 69, loss = 0.15406659\n",
      "Iteration 70, loss = 0.15389859\n",
      "Iteration 71, loss = 0.15414091\n",
      "Iteration 72, loss = 0.15433094\n",
      "Iteration 73, loss = 0.15403788\n",
      "Iteration 74, loss = 0.15357100\n",
      "Iteration 75, loss = 0.15415316\n",
      "Iteration 76, loss = 0.15451214\n",
      "Iteration 77, loss = 0.15399381\n",
      "Iteration 78, loss = 0.15393840\n",
      "Iteration 79, loss = 0.15418253\n",
      "Iteration 80, loss = 0.15375917\n",
      "Iteration 81, loss = 0.15324784\n",
      "Iteration 82, loss = 0.15376553\n",
      "Iteration 83, loss = 0.15356820\n",
      "Iteration 84, loss = 0.15324339\n",
      "Iteration 85, loss = 0.15323939\n",
      "Iteration 86, loss = 0.15262854\n",
      "Iteration 87, loss = 0.15278827\n",
      "Iteration 88, loss = 0.15254291\n",
      "Iteration 89, loss = 0.15282713\n",
      "Iteration 90, loss = 0.15327380\n",
      "Iteration 91, loss = 0.15283456\n",
      "Iteration 92, loss = 0.15300645\n",
      "Iteration 93, loss = 0.15308168\n",
      "Iteration 94, loss = 0.15231759\n",
      "Iteration 95, loss = 0.15225344\n",
      "Iteration 96, loss = 0.15242406\n",
      "Iteration 97, loss = 0.15261079\n",
      "Iteration 98, loss = 0.15223697\n",
      "Iteration 99, loss = 0.15173377\n",
      "Iteration 100, loss = 0.15180828\n",
      "Iteration 101, loss = 0.15207714\n",
      "Iteration 102, loss = 0.15165388\n",
      "Iteration 103, loss = 0.15178977\n",
      "Iteration 104, loss = 0.15189576\n",
      "Iteration 105, loss = 0.15235843\n",
      "Iteration 106, loss = 0.15193698\n",
      "Iteration 107, loss = 0.15185634\n",
      "Iteration 108, loss = 0.15170017\n",
      "Iteration 109, loss = 0.15139305\n",
      "Iteration 110, loss = 0.15117619\n",
      "Iteration 111, loss = 0.15100802\n",
      "Iteration 112, loss = 0.15104492\n",
      "Iteration 113, loss = 0.15138818\n",
      "Iteration 114, loss = 0.15156567\n",
      "Iteration 115, loss = 0.15137790\n",
      "Iteration 116, loss = 0.15179366\n",
      "Iteration 117, loss = 0.15110359\n",
      "Iteration 118, loss = 0.15201795\n",
      "Iteration 119, loss = 0.15154542\n",
      "Iteration 120, loss = 0.15186844\n",
      "Iteration 121, loss = 0.15147604\n",
      "Iteration 122, loss = 0.15132788\n",
      "Training loss did not improve more than tol=0.000010 for 10 consecutive epochs. Setting learning rate to 0.020000\n",
      "Iteration 123, loss = 0.14534915\n",
      "Iteration 124, loss = 0.14386516\n",
      "Iteration 125, loss = 0.14356921\n",
      "Iteration 126, loss = 0.14344846\n",
      "Iteration 127, loss = 0.14326059\n",
      "Iteration 128, loss = 0.14320645\n",
      "Iteration 129, loss = 0.14308618\n",
      "Iteration 130, loss = 0.14306584\n",
      "Iteration 131, loss = 0.14303787\n",
      "Iteration 132, loss = 0.14289395\n",
      "Iteration 133, loss = 0.14287044\n",
      "Iteration 134, loss = 0.14279833\n",
      "Iteration 135, loss = 0.14284019\n",
      "Iteration 136, loss = 0.14271624\n",
      "Iteration 137, loss = 0.14278180\n",
      "Iteration 138, loss = 0.14277063\n",
      "Iteration 139, loss = 0.14279732\n",
      "Iteration 140, loss = 0.14260633\n",
      "Iteration 141, loss = 0.14266928\n",
      "Iteration 142, loss = 0.14266044\n",
      "Iteration 143, loss = 0.14255907\n",
      "Iteration 144, loss = 0.14256555\n",
      "Iteration 145, loss = 0.14259379\n",
      "Iteration 146, loss = 0.14246580\n",
      "Iteration 147, loss = 0.14248843\n",
      "Iteration 148, loss = 0.14249382\n",
      "Iteration 149, loss = 0.14246487\n",
      "Iteration 150, loss = 0.14245764\n",
      "Iteration 151, loss = 0.14240094\n",
      "Iteration 152, loss = 0.14239232\n",
      "Iteration 153, loss = 0.14236159\n",
      "Iteration 154, loss = 0.14240437\n",
      "Iteration 155, loss = 0.14239443\n",
      "Iteration 156, loss = 0.14237970\n",
      "Iteration 157, loss = 0.14234053\n",
      "Iteration 158, loss = 0.14236652\n",
      "Iteration 159, loss = 0.14229479\n",
      "Iteration 160, loss = 0.14226005\n",
      "Iteration 161, loss = 0.14226387\n",
      "Iteration 162, loss = 0.14233683\n",
      "Iteration 163, loss = 0.14231556\n",
      "Iteration 164, loss = 0.14223209\n",
      "Iteration 165, loss = 0.14233360\n",
      "Iteration 166, loss = 0.14234070\n",
      "Iteration 167, loss = 0.14220157\n",
      "Iteration 168, loss = 0.14224794\n",
      "Iteration 169, loss = 0.14221314\n",
      "Iteration 170, loss = 0.14228786\n",
      "Iteration 171, loss = 0.14219584\n",
      "Iteration 172, loss = 0.14212784\n",
      "Iteration 173, loss = 0.14221331\n",
      "Iteration 174, loss = 0.14222793\n",
      "Iteration 175, loss = 0.14223466\n",
      "Iteration 176, loss = 0.14217140\n",
      "Iteration 177, loss = 0.14219327\n",
      "Iteration 178, loss = 0.14215578\n",
      "Iteration 179, loss = 0.14214475\n",
      "Iteration 180, loss = 0.14211786\n",
      "Iteration 181, loss = 0.14212622\n",
      "Iteration 182, loss = 0.14203855\n",
      "Iteration 183, loss = 0.14209064\n",
      "Iteration 184, loss = 0.14217167\n",
      "Iteration 185, loss = 0.14205846\n",
      "Iteration 186, loss = 0.14214027\n",
      "Iteration 187, loss = 0.14210608\n",
      "Iteration 188, loss = 0.14205915\n",
      "Iteration 189, loss = 0.14202824\n",
      "Iteration 190, loss = 0.14202908\n",
      "Iteration 191, loss = 0.14210935\n",
      "Iteration 192, loss = 0.14207870\n",
      "Iteration 193, loss = 0.14208202\n",
      "Iteration 194, loss = 0.14204298\n",
      "Iteration 195, loss = 0.14201496\n",
      "Iteration 196, loss = 0.14204629\n",
      "Iteration 197, loss = 0.14201317\n",
      "Iteration 198, loss = 0.14194299\n",
      "Iteration 199, loss = 0.14203084\n",
      "Iteration 200, loss = 0.14194951\n",
      "No. of Iterations: 200\n"
     ]
    },
    {
     "name": "stderr",
     "output_type": "stream",
     "text": [
      "/Users/hasan/anaconda/lib/python3.5/site-packages/sklearn/neural_network/multilayer_perceptron.py:562: ConvergenceWarning: Stochastic Optimizer: Maximum iterations (200) reached and the optimization hasn't converged yet.\n",
      "  % self.max_iter, ConvergenceWarning)\n"
     ]
    },
    {
     "name": "stdout",
     "output_type": "stream",
     "text": [
      "\n",
      "Training Accuracy:  0.98895\n",
      "CPU times: user 8min 34s, sys: 1min 33s, total: 10min 7s\n",
      "Wall time: 2min 35s\n"
     ]
    }
   ],
   "source": [
    "%%time\n",
    "mlp_clf_pca = MLPClassifier(hidden_layer_sizes=(150,), max_iter=200, alpha=0.1,\n",
    "                    solver='sgd', verbose=True, tol=1e-5, random_state=1, \n",
    "                    learning_rate = 'adaptive', learning_rate_init=0.1, activation='logistic')\n",
    "\n",
    "mlp_clf_pca.fit(X_train_pca, y_train)\n",
    "\n",
    "print(\"No. of Iterations:\", mlp_clf_pca.n_iter_ )\n",
    "\n",
    "y_train_predicted = mlp_clf_pca.predict(X_train_pca)\n",
    "\n",
    "train_accuracy_mlp = np.mean(y_train_predicted == y_train)\n",
    "print(\"\\nTraining Accuracy: \", train_accuracy_mlp)"
   ]
  },
  {
   "cell_type": "markdown",
   "metadata": {},
   "source": [
    "## Experiment 2: Evaluate MLP + PCA on Test Data"
   ]
  },
  {
   "cell_type": "code",
   "execution_count": 46,
   "metadata": {
    "collapsed": false
   },
   "outputs": [
    {
     "name": "stdout",
     "output_type": "stream",
     "text": [
      "\n",
      "Test Accuracy:  0.977\n",
      "\n",
      "Test Confusion Matrix:\n",
      "[[ 971    0    2    1    0    2    2    1    1    0]\n",
      " [   0 1124    2    1    0    1    3    1    3    0]\n",
      " [   5    0 1003    2    3    0    2    6   10    1]\n",
      " [   0    0    3  996    0    2    0    4    3    2]\n",
      " [   1    0    1    0  961    0    6    1    2   10]\n",
      " [   2    0    0    7    0  871    6    1    4    1]\n",
      " [   7    3    1    0    4    8  932    0    3    0]\n",
      " [   2   10    8    3    1    0    0  997    0    7]\n",
      " [   4    1    3    5    4    4    2    4  944    3]\n",
      " [   5    5    1    9    9    5    0    4    0  971]]\n",
      "\n",
      "Classification Report:\n",
      "              precision    recall  f1-score   support\n",
      "\n",
      "         0.0       0.97      0.99      0.98       980\n",
      "         1.0       0.98      0.99      0.99      1135\n",
      "         2.0       0.98      0.97      0.98      1032\n",
      "         3.0       0.97      0.99      0.98      1010\n",
      "         4.0       0.98      0.98      0.98       982\n",
      "         5.0       0.98      0.98      0.98       892\n",
      "         6.0       0.98      0.97      0.98       958\n",
      "         7.0       0.98      0.97      0.97      1028\n",
      "         8.0       0.97      0.97      0.97       974\n",
      "         9.0       0.98      0.96      0.97      1009\n",
      "\n",
      "   micro avg       0.98      0.98      0.98     10000\n",
      "   macro avg       0.98      0.98      0.98     10000\n",
      "weighted avg       0.98      0.98      0.98     10000\n",
      "\n",
      "CPU times: user 226 ms, sys: 41.2 ms, total: 267 ms\n",
      "Wall time: 74.2 ms\n"
     ]
    }
   ],
   "source": [
    "%%time\n",
    "y_test_predicted = mlp_clf_pca.predict(X_test_pca)\n",
    "\n",
    "test_accuracy_mlp = np.mean(y_test_predicted == y_test)\n",
    "print(\"\\nTest Accuracy: \", test_accuracy_mlp)\n",
    "\n",
    "print(\"\\nTest Confusion Matrix:\")\n",
    "print(confusion_matrix(y_test, y_test_predicted))\n",
    "\n",
    "print(\"\\nClassification Report:\")\n",
    "print(classification_report(y_test, y_test_predicted))"
   ]
  },
  {
   "cell_type": "markdown",
   "metadata": {},
   "source": [
    "## Experiment 2: SVC (RBF Kernel) + PCA"
   ]
  },
  {
   "cell_type": "code",
   "execution_count": 17,
   "metadata": {
    "collapsed": false
   },
   "outputs": [
    {
     "name": "stdout",
     "output_type": "stream",
     "text": [
      "CPU times: user 3min 34s, sys: 399 ms, total: 3min 35s\n",
      "Wall time: 3min 35s\n"
     ]
    }
   ],
   "source": [
    "%%time\n",
    "svm_clf_pca = SVC(C=1, gamma=0.001)\n",
    "svm_clf_pca.fit(X_train_pca, y_train)"
   ]
  },
  {
   "cell_type": "markdown",
   "metadata": {},
   "source": [
    "## Experiment 2: Evaluate SVC (RBF Kernel) + PCA on Test Data"
   ]
  },
  {
   "cell_type": "code",
   "execution_count": 18,
   "metadata": {
    "collapsed": false
   },
   "outputs": [
    {
     "name": "stdout",
     "output_type": "stream",
     "text": [
      "\n",
      "Test Accuracy:  0.9659\n",
      "\n",
      "Test Confusion Matrix:\n",
      "[[ 968    0    2    1    0    3    3    1    2    0]\n",
      " [   0 1126    3    0    0    1    3    0    2    0]\n",
      " [   6    2  993    3    2    0    1   14   10    1]\n",
      " [   0    0    2  984    1    7    0   10    6    0]\n",
      " [   1    0    8    0  945    2    4    7    2   13]\n",
      " [   2    0    1   12    3  854    7    5    7    1]\n",
      " [   6    2    1    0    4    9  930    2    4    0]\n",
      " [   0    7   17    3    1    1    0  986    0   13]\n",
      " [   3    0    4    9    6   12    3    9  926    2]\n",
      " [   4    6    4   12   17    2    0   14    3  947]]\n",
      "\n",
      "Classification Report:\n",
      "              precision    recall  f1-score   support\n",
      "\n",
      "         0.0       0.98      0.99      0.98       980\n",
      "         1.0       0.99      0.99      0.99      1135\n",
      "         2.0       0.96      0.96      0.96      1032\n",
      "         3.0       0.96      0.97      0.97      1010\n",
      "         4.0       0.97      0.96      0.96       982\n",
      "         5.0       0.96      0.96      0.96       892\n",
      "         6.0       0.98      0.97      0.97       958\n",
      "         7.0       0.94      0.96      0.95      1028\n",
      "         8.0       0.96      0.95      0.96       974\n",
      "         9.0       0.97      0.94      0.95      1009\n",
      "\n",
      "   micro avg       0.97      0.97      0.97     10000\n",
      "   macro avg       0.97      0.97      0.97     10000\n",
      "weighted avg       0.97      0.97      0.97     10000\n",
      "\n",
      "CPU times: user 51.4 s, sys: 108 ms, total: 51.5 s\n",
      "Wall time: 51.6 s\n"
     ]
    }
   ],
   "source": [
    "%%time\n",
    "\n",
    "y_test_predicted = svm_clf_pca.predict(X_test_pca)\n",
    "\n",
    "accuracy_score_test = np.mean(y_test_predicted == y_test)\n",
    "print(\"\\nTest Accuracy: \", accuracy_score_test)\n",
    "\n",
    "print(\"\\nTest Confusion Matrix:\")\n",
    "print(confusion_matrix(y_test, y_test_predicted))\n",
    "\n",
    "print(\"\\nClassification Report:\")\n",
    "print(classification_report(y_test, y_test_predicted))"
   ]
  },
  {
   "cell_type": "markdown",
   "metadata": {},
   "source": [
    "## Experiment 3: Logistic Regression (Softmax Regression) + PCA\n",
    "\n",
    "We use the best performing solver (i.e., lbfgs) from previous notebook to train the logistic regression model on the PCA transformed data."
   ]
  },
  {
   "cell_type": "code",
   "execution_count": 13,
   "metadata": {
    "collapsed": false
   },
   "outputs": [
    {
     "name": "stdout",
     "output_type": "stream",
     "text": [
      "CPU times: user 32 s, sys: 2.11 s, total: 34.2 s\n",
      "Wall time: 8.67 s\n"
     ]
    },
    {
     "name": "stderr",
     "output_type": "stream",
     "text": [
      "/Users/hasan/anaconda/lib/python3.5/site-packages/sklearn/linear_model/logistic.py:758: ConvergenceWarning: lbfgs failed to converge. Increase the number of iterations.\n",
      "  \"of iterations.\", ConvergenceWarning)\n"
     ]
    }
   ],
   "source": [
    "%%time\n",
    "softmax_reg_pca = LogisticRegression(solver='lbfgs', multi_class='multinomial')\n",
    "\n",
    "softmax_reg_pca.fit(X_train_pca, y_train)"
   ]
  },
  {
   "cell_type": "markdown",
   "metadata": {},
   "source": [
    "## Experiment 4: Evaluate Softmax Regression + PCA on Test Data"
   ]
  },
  {
   "cell_type": "code",
   "execution_count": 14,
   "metadata": {
    "collapsed": false
   },
   "outputs": [
    {
     "name": "stdout",
     "output_type": "stream",
     "text": [
      "No. of Iterations: [100]\n",
      "\n",
      "Test Accuracy:  0.9265\n",
      "\n",
      "Test Confusion Matrix:\n",
      "[[ 957    0    1    2    1    6    8    3    2    0]\n",
      " [   0 1114    3    2    0    1    3    2   10    0]\n",
      " [   7    5  931   17   12    3    9   11   34    3]\n",
      " [   3    3   18  919    1   22    3   11   23    7]\n",
      " [   1    2    8    2  917    0   10    4    9   29]\n",
      " [   7    5    3   33    8  778   13    6   35    4]\n",
      " [  12    3    8    2    6   12  912    1    2    0]\n",
      " [   0    9   29    5    6    1    0  948    0   30]\n",
      " [   6    6    6   22    9   24    7   11  874    9]\n",
      " [   9    7    2   10   25    7    0   26    8  915]]\n",
      "\n",
      "Classification Report:\n",
      "              precision    recall  f1-score   support\n",
      "\n",
      "         0.0       0.96      0.98      0.97       980\n",
      "         1.0       0.97      0.98      0.97      1135\n",
      "         2.0       0.92      0.90      0.91      1032\n",
      "         3.0       0.91      0.91      0.91      1010\n",
      "         4.0       0.93      0.93      0.93       982\n",
      "         5.0       0.91      0.87      0.89       892\n",
      "         6.0       0.95      0.95      0.95       958\n",
      "         7.0       0.93      0.92      0.92      1028\n",
      "         8.0       0.88      0.90      0.89       974\n",
      "         9.0       0.92      0.91      0.91      1009\n",
      "\n",
      "   micro avg       0.93      0.93      0.93     10000\n",
      "   macro avg       0.93      0.93      0.93     10000\n",
      "weighted avg       0.93      0.93      0.93     10000\n",
      "\n"
     ]
    }
   ],
   "source": [
    "print(\"No. of Iterations:\", softmax_reg_pca.n_iter_ )\n",
    "\n",
    "\n",
    "y_test_predicted = softmax_reg_pca.predict(X_test_pca)\n",
    "\n",
    "\n",
    "accuracy_score_test = np.mean(y_test_predicted == y_test)\n",
    "print(\"\\nTest Accuracy: \", accuracy_score_test)\n",
    "\n",
    "\n",
    "print(\"\\nTest Confusion Matrix:\")\n",
    "print(confusion_matrix(y_test, y_test_predicted))\n",
    "\n",
    "\n",
    "print(\"\\nClassification Report:\")\n",
    "print(classification_report(y_test, y_test_predicted))"
   ]
  },
  {
   "cell_type": "markdown",
   "metadata": {},
   "source": [
    "# Summary of Results from 3 Experiments"
   ]
  },
  {
   "cell_type": "code",
   "execution_count": 47,
   "metadata": {
    "collapsed": false
   },
   "outputs": [
    {
     "data": {
      "text/html": [
       "<div>\n",
       "<style scoped>\n",
       "    .dataframe tbody tr th:only-of-type {\n",
       "        vertical-align: middle;\n",
       "    }\n",
       "\n",
       "    .dataframe tbody tr th {\n",
       "        vertical-align: top;\n",
       "    }\n",
       "\n",
       "    .dataframe thead th {\n",
       "        text-align: right;\n",
       "    }\n",
       "</style>\n",
       "<table border=\"1\" class=\"dataframe\">\n",
       "  <thead>\n",
       "    <tr style=\"text-align: right;\">\n",
       "      <th></th>\n",
       "      <th>Classifier</th>\n",
       "      <th>Accuracy</th>\n",
       "      <th>Running-Time</th>\n",
       "    </tr>\n",
       "  </thead>\n",
       "  <tbody>\n",
       "    <tr>\n",
       "      <th>0</th>\n",
       "      <td>MLP  (200 epochs)</td>\n",
       "      <td>0.9752</td>\n",
       "      <td>4min 21s</td>\n",
       "    </tr>\n",
       "    <tr>\n",
       "      <th>1</th>\n",
       "      <td>MLP + PCA (200 epochs)</td>\n",
       "      <td>0.9770</td>\n",
       "      <td>2min 35s</td>\n",
       "    </tr>\n",
       "    <tr>\n",
       "      <th>2</th>\n",
       "      <td>SVM(RBF) + PCA</td>\n",
       "      <td>0.9659</td>\n",
       "      <td>3min 34s</td>\n",
       "    </tr>\n",
       "    <tr>\n",
       "      <th>3</th>\n",
       "      <td>Softmax + PCA</td>\n",
       "      <td>0.9265</td>\n",
       "      <td>8.67 s</td>\n",
       "    </tr>\n",
       "  </tbody>\n",
       "</table>\n",
       "</div>"
      ],
      "text/plain": [
       "               Classifier  Accuracy Running-Time\n",
       "0       MLP  (200 epochs)    0.9752     4min 21s\n",
       "1  MLP + PCA (200 epochs)    0.9770     2min 35s\n",
       "2          SVM(RBF) + PCA    0.9659     3min 34s\n",
       "3           Softmax + PCA    0.9265       8.67 s"
      ]
     },
     "execution_count": 47,
     "metadata": {},
     "output_type": "execute_result"
    }
   ],
   "source": [
    "data = [[\"MLP  (200 epochs)\", 0.9752, \"4min 21s\"], \n",
    "        [\"MLP + PCA (200 epochs)\", 0.977, \"2min 35s\"], \n",
    "        [\"SVM(RBF) + PCA\", 0.9659, \"3min 34s\"],\n",
    "        [\"Softmax + PCA\", 0.9265, \"8.67 s\"]]\n",
    "\n",
    "pd.DataFrame(data, columns=[\"Classifier\", \"Accuracy\", \"Running-Time\"])\n"
   ]
  },
  {
   "cell_type": "markdown",
   "metadata": {},
   "source": [
    "## Comparative Understanding\n",
    "\n",
    "We have done 4 experiments using MLP (without PCA), MLP (with PCA), Kernel SVM (with PCA) and Logistic Regression (with PCA) classifiers.\n",
    "\n",
    "We make following observations.\n",
    "- The MLP outperforms other two classifiers.\n",
    "- MLP with PCA performs slightly better than MLP without PCA. Also it is faster.\n",
    "- Understandably logistic regression performed poorly due to the non-linear nature of the data. However, it is faster.\n",
    "- MLP (with PCA) is faster than the Kernel SVM. Because the dual SVM optimization complexity is $O(N^2d)$.\n",
    "\n",
    "### Thus, for large non-linear data set (e.g., image classification) MLP performs better than the RBF kernel based SVM."
   ]
  }
 ],
 "metadata": {
  "anaconda-cloud": {},
  "kernelspec": {
   "display_name": "Python [conda root]",
   "language": "python",
   "name": "conda-root-py"
  },
  "language_info": {
   "codemirror_mode": {
    "name": "ipython",
    "version": 3
   },
   "file_extension": ".py",
   "mimetype": "text/x-python",
   "name": "python",
   "nbconvert_exporter": "python",
   "pygments_lexer": "ipython3",
   "version": "3.5.2"
  }
 },
 "nbformat": 4,
 "nbformat_minor": 1
}
