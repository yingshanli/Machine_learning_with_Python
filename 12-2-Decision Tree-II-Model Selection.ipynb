{
 "cells": [
  {
   "cell_type": "markdown",
   "metadata": {
    "collapsed": true
   },
   "source": [
    "# Decision Tree: Model Selection & Hadling Overfitting\n",
    "\n",
    "The goal of this notebook is two-fold.\n",
    "- Model selection for a Decision Tree Classifier via hyperparameter tuning\n",
    "- Understand how hyperparameter tuning reduces variance (handles overfitting)\n"
   ]
  },
  {
   "cell_type": "code",
   "execution_count": 148,
   "metadata": {
    "collapsed": true
   },
   "outputs": [],
   "source": [
    "import numpy as np\n",
    "\n",
    "# To plot pretty figures\n",
    "%matplotlib inline\n",
    "import matplotlib as mpl\n",
    "import matplotlib.pyplot as plt\n",
    "\n",
    "\n",
    "from sklearn.datasets import make_moons\n",
    "from sklearn.tree import DecisionTreeClassifier\n",
    "from sklearn.model_selection import train_test_split, GridSearchCV, cross_val_score\n",
    "from sklearn.metrics import confusion_matrix, accuracy_score, classification_report"
   ]
  },
  {
   "cell_type": "markdown",
   "metadata": {},
   "source": [
    "# Dataset\n",
    "\n",
    "We will use Scikit-Learn's \"datasets.make_moons\" function to generate a synthetic non-linear dataset that is suitable for investigating classification (as well as clustering) models. It creates two interleaving half circles.\n",
    "\n",
    "The following parameter is used by the make_moons function:\n",
    "\n",
    "- noise : Standard deviation of Gaussian noise added to the data."
   ]
  },
  {
   "cell_type": "code",
   "execution_count": 222,
   "metadata": {
    "collapsed": false
   },
   "outputs": [
    {
     "data": {
      "image/png": "[encoded data removed]",
      "text/plain": [
       "<Figure size 864x432 with 1 Axes>"
      ]
     },
     "metadata": {},
     "output_type": "display_data"
    }
   ],
   "source": [
    "X, y = make_moons(300, noise=0.25, random_state=0)\n",
    "\n",
    "plt.figure(figsize=(12, 6))\n",
    "plt.plot(X[y.ravel()==0, 0], X[y.ravel()==0, 1], \"ro\")\n",
    "plt.plot(X[y.ravel()==1, 0], X[y.ravel()==1, 1], \"yo\")\n",
    "plt.title(\"Data Distribution\", fontsize=16)\n",
    "plt.xlabel(\"$x_1$\", fontsize=14)\n",
    "plt.ylabel(\"$x_2$\", fontsize=14)\n",
    "plt.xticks(())\n",
    "plt.yticks(())\n",
    "plt.show()"
   ]
  },
  {
   "cell_type": "markdown",
   "metadata": {},
   "source": [
    "## Split the Dataset into Train and Test Set"
   ]
  },
  {
   "cell_type": "code",
   "execution_count": 223,
   "metadata": {
    "collapsed": true
   },
   "outputs": [],
   "source": [
    "X_train, X_test, y_train, y_test = train_test_split(X, y, test_size=0.20, random_state=42)"
   ]
  },
  {
   "cell_type": "markdown",
   "metadata": {},
   "source": [
    "## Function for Plotting Decision Bounday \n",
    "\n",
    "\n",
    "To better understand how Decision Tree classifier creates decision boundary, we need to **<font color=red size=6> visualize </font>** it.\n",
    "\n",
    "We define the function \"decision_boundary_decision_tree\" to plot the decision boundary. "
   ]
  },
  {
   "cell_type": "code",
   "execution_count": 224,
   "metadata": {
    "collapsed": true
   },
   "outputs": [],
   "source": [
    "def decision_boundary_decision_tree(clf, X, colorBar=False):\n",
    "    \n",
    "    # Get the min and max value of feature x1\n",
    "    x1min, x1max = X[:,0].min() - 0.5, X[:, 0].max() + 0.5\n",
    "    \n",
    "    # Get the min and max value of feature x2\n",
    "    x2min, x2max = X[:,1].min() - 0.5, X[:, 1].max() + 0.5\n",
    "    \n",
    "    # Create the mesh grid\n",
    "    x1s = np.linspace(x1min, x1max, 100)\n",
    "    x2s = np.linspace(x2min, x2max, 100)\n",
    "    x1, x2 = np.meshgrid(x1s, x2s)\n",
    "    \n",
    "    \n",
    "    # Create pairs of new points from the grid\n",
    "    X_new = np.c_[x1.ravel(), x2.ravel()]\n",
    "    \n",
    "    \n",
    "    # Compute the class predictions for all new points\n",
    "    y_pred = clf.predict(X_new).reshape(x1.shape)\n",
    "    \n",
    "    \n",
    "    # Generate the contourf plot for the predictions\n",
    "    plt.contourf(x1, x2, y_pred, cmap=plt.cm.bwr, alpha=0.2)\n",
    "    \n",
    "    \n",
    "    if(colorBar==True):\n",
    "        plt.colorbar()   "
   ]
  },
  {
   "cell_type": "markdown",
   "metadata": {},
   "source": [
    "## Model Selection: Hyperparameter Tuning\n",
    "\n",
    "We perform model selection by finding the optimal hyperparameters via Gridsearch.\n",
    "\n",
    "We tune the following two hyperparameters that influence variance (overfitting).\n",
    "\n",
    "- min_samples_leaf\n",
    "- max_depth"
   ]
  },
  {
   "cell_type": "code",
   "execution_count": 225,
   "metadata": {
    "collapsed": false
   },
   "outputs": [
    {
     "name": "stdout",
     "output_type": "stream",
     "text": [
      "Best Score (accuracy): 0.954409\n",
      "Optimal Hyperparameter Values:  {'min_samples_leaf': 3, 'max_depth': 7}\n",
      "CPU times: user 615 ms, sys: 3.62 ms, total: 618 ms\n",
      "Wall time: 617 ms\n"
     ]
    },
    {
     "name": "stderr",
     "output_type": "stream",
     "text": [
      "/Users/hasan/anaconda/lib/python3.5/site-packages/sklearn/model_selection/_search.py:841: DeprecationWarning: The default of the `iid` parameter will change from True to False in version 0.22 and will be removed in 0.24. This will change numeric results when test-set sizes are unequal.\n",
      "  DeprecationWarning)\n"
     ]
    }
   ],
   "source": [
    "%%time\n",
    "\n",
    "param_grid = {'min_samples_leaf': [1, 2, 3, 4, 5, 6, 7, 8],\n",
    "              'max_depth': [2, 3, 4, 5, 6, 7, 8, 9, 10]}\n",
    "\n",
    "dt_clf = DecisionTreeClassifier()\n",
    "\n",
    "dt_clf_cv = GridSearchCV(dt_clf, param_grid, scoring='f1', cv=4)\n",
    "dt_clf_cv.fit(X_train, y_train)\n",
    "\n",
    "params_optimal = dt_clf_cv.best_params_\n",
    "\n",
    "print(\"Best Score (accuracy): %f\" % dt_clf_cv.best_score_)\n",
    "print(\"Optimal Hyperparameter Values: \", params_optimal)"
   ]
  },
  {
   "cell_type": "markdown",
   "metadata": {},
   "source": [
    "## Train the Optimal Classifier"
   ]
  },
  {
   "cell_type": "code",
   "execution_count": 226,
   "metadata": {
    "collapsed": false
   },
   "outputs": [
    {
     "data": {
      "text/plain": [
       "DecisionTreeClassifier(class_weight=None, criterion='gini', max_depth=7,\n",
       "            max_features=None, max_leaf_nodes=None,\n",
       "            min_impurity_decrease=0.0, min_impurity_split=None,\n",
       "            min_samples_leaf=3, min_samples_split=2,\n",
       "            min_weight_fraction_leaf=0.0, presort=False, random_state=None,\n",
       "            splitter='best')"
      ]
     },
     "execution_count": 226,
     "metadata": {},
     "output_type": "execute_result"
    }
   ],
   "source": [
    "tree_clf = DecisionTreeClassifier(**params_optimal)\n",
    "\n",
    "tree_clf.fit(X_train, y_train)"
   ]
  },
  {
   "cell_type": "markdown",
   "metadata": {},
   "source": [
    "## Evaluate the Optimal Classifier on Test Data"
   ]
  },
  {
   "cell_type": "code",
   "execution_count": 227,
   "metadata": {
    "collapsed": false
   },
   "outputs": [
    {
     "name": "stdout",
     "output_type": "stream",
     "text": [
      "Test Accuracy:  0.9333333333333333\n",
      "\n",
      "Test Confusion Matrix:\n",
      "[[34  3]\n",
      " [ 1 22]]\n",
      "\n",
      "Classification Report:\n",
      "              precision    recall  f1-score   support\n",
      "\n",
      "           0       0.97      0.92      0.94        37\n",
      "           1       0.88      0.96      0.92        23\n",
      "\n",
      "   micro avg       0.93      0.93      0.93        60\n",
      "   macro avg       0.93      0.94      0.93        60\n",
      "weighted avg       0.94      0.93      0.93        60\n",
      "\n"
     ]
    }
   ],
   "source": [
    "y_test_predicted = tree_clf.predict(X_test)\n",
    "\n",
    "test_accuracy_tuned = accuracy_score(y_test, y_test_predicted)\n",
    "print(\"Test Accuracy: \", test_accuracy_tuned)\n",
    "\n",
    "print(\"\\nTest Confusion Matrix:\")\n",
    "print(confusion_matrix(y_test, y_test_predicted))\n",
    "\n",
    "print(\"\\nClassification Report:\")\n",
    "print(classification_report(y_test, y_test_predicted))"
   ]
  },
  {
   "cell_type": "markdown",
   "metadata": {},
   "source": [
    "## Training a Classsifer Without Hyperparameter Tuning\n",
    "\n",
    "We train a classsifier without using optimal hyperparameters.\n",
    "\n",
    "We expect it to have larger variance.\n",
    "\n",
    "Then, we compare its decision boundary (and accuracy) with that of the optimal classsifier."
   ]
  },
  {
   "cell_type": "code",
   "execution_count": 220,
   "metadata": {
    "collapsed": false
   },
   "outputs": [
    {
     "name": "stdout",
     "output_type": "stream",
     "text": [
      "Test Accuracy:  0.9166666666666666\n"
     ]
    }
   ],
   "source": [
    "tree_clf_untuned = DecisionTreeClassifier(random_state=42)\n",
    "tree_clf_untuned.fit(X_train, y_train)\n",
    "\n",
    "y_test_predicted_untuned = tree_clf_untuned.predict(X_test)\n",
    "\n",
    "test_accuracy_untuned = accuracy_score(y_test, y_test_predicted_untuned)\n",
    "print(\"Test Accuracy: \", test_accuracy_untuned)"
   ]
  },
  {
   "cell_type": "markdown",
   "metadata": {},
   "source": [
    "## Comparing The Decision Boundaries of Two Classsifiers\n",
    "\n",
    "We see that the non-optimal model has larger variance (low test accuracy) resulting into overfitted decision boundary.\n",
    "\n",
    "However, the optimal model decision decision boundary is smoother and it has higher test accuracy."
   ]
  },
  {
   "cell_type": "code",
   "execution_count": 221,
   "metadata": {
    "collapsed": false
   },
   "outputs": [
    {
     "data": {
      "image/png": "[encoded data removed]",
      "text/plain": [
       "<Figure size 1152x576 with 2 Axes>"
      ]
     },
     "metadata": {},
     "output_type": "display_data"
    }
   ],
   "source": [
    "plt.figure(figsize=(16, 8))\n",
    "\n",
    "plt.subplot(121)\n",
    "decision_boundary_decision_tree(tree_clf_1, X)\n",
    "\n",
    "plt.plot(X[:, 0][y==0], X[:, 1][y==0], \"ro\")\n",
    "plt.plot(X[:, 0][y==1], X[:, 1][y==1], \"bs\")\n",
    "plt.title(\"min_samples_leaf = %d \\n Test Accuracy = %f\" \n",
    "          % (tree_clf_untuned.min_samples_leaf, test_accuracy_untuned), fontsize=14)\n",
    "plt.xlabel(\"$x_1$\", fontsize=14)\n",
    "plt.ylabel(\"$x_2$\", fontsize=14)\n",
    "\n",
    "plt.subplot(122)\n",
    "decision_boundary_decision_tree(tree_clf_2, X)\n",
    "\n",
    "plt.plot(X[:, 0][y==0], X[:, 1][y==0], \"ro\")\n",
    "plt.plot(X[:, 0][y==1], X[:, 1][y==1], \"bs\")\n",
    "plt.title(\"min_samples_leaf = %d \\n max_depth = %d \\n Test Accuracy = %f\" \n",
    "          % (tree_clf.min_samples_leaf, tree_clf.max_depth, test_accuracy_tuned), fontsize=14)\n",
    "\n",
    "plt.show()"
   ]
  }
 ],
 "metadata": {
  "anaconda-cloud": {},
  "kernelspec": {
   "display_name": "Python [conda root]",
   "language": "python",
   "name": "conda-root-py"
  },
  "language_info": {
   "codemirror_mode": {
    "name": "ipython",
    "version": 3
   },
   "file_extension": ".py",
   "mimetype": "text/x-python",
   "name": "python",
   "nbconvert_exporter": "python",
   "pygments_lexer": "ipython3",
   "version": "3.5.2"
  }
 },
 "nbformat": 4,
 "nbformat_minor": 1
}
