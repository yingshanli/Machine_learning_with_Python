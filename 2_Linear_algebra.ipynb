{
 "cells": [
  {
   "cell_type": "markdown",
   "metadata": {},
   "source": [
    "## Problem 1: Distance and Norms\n",
    "\n",
    "### 1.1. \n",
    "\n",
    "In a cell by itself, define a function that accepts two equal sized NumPy arrays (vectors) and returns their cosine similarity. Use NumPy functions to calculate the dot product of the vectors and their magnitudes."
   ]
  },
  {
   "cell_type": "code",
   "execution_count": 134,
   "metadata": {},
   "outputs": [
    {
     "name": "stdout",
     "output_type": "stream",
     "text": [
      "0.869318287921\n"
     ]
    }
   ],
   "source": [
    "import numpy as np\n",
    "\n",
    "def cos_sim(v1, v2):\n",
    "        cos_sim = np.dot(v1, v2)/(np.linalg.norm(v1)*np.linalg.norm(v2))\n",
    "        return cos_sim\n",
    "    \n",
    "# an example\n",
    "a = cos_sim([1,2,3], [5, 3, 4])\n",
    "print(a)"
   ]
  },
  {
   "cell_type": "code",
   "execution_count": 174,
   "metadata": {},
   "outputs": [
    {
     "data": {
      "text/plain": [
       "array([[ 1.        ,  0.98058068,  0.84270097],\n",
       "       [ 0.        ,  0.19611614, -0.48154341],\n",
       "       [ 0.        ,  0.        ,  0.24077171]])"
      ]
     },
     "execution_count": 174,
     "metadata": {},
     "output_type": "execute_result"
    }
   ],
   "source": [
    "a = np.array([[3, 5, 3], [0, 4, 6], [0, 0, 1]])\n",
    "w, v = np.linalg.eig(a)\n",
    "v"
   ]
  },
  {
   "cell_type": "code",
   "execution_count": 170,
   "metadata": {},
   "outputs": [
    {
     "data": {
      "text/plain": [
       "array([[  5.33799785,  11.97540026,   8.02491684],\n",
       "       [  5.21633489,   8.37893737,   8.15336839],\n",
       "       [  2.05418684,   7.30982403,   4.45857477]])"
      ]
     },
     "execution_count": 170,
     "metadata": {},
     "output_type": "execute_result"
    }
   ],
   "source": [
    "np.random.seed(seed=88)\n",
    "Mat2 = np.random.normal(5, np.sqrt(10), (3, 3))\n",
    "np.linalg.det(Mat2)\n",
    "Mat2"
   ]
  },
  {
   "cell_type": "markdown",
   "metadata": {},
   "source": [
    "### 1.2. \n",
    "\n",
    "In a markdown cell:\n",
    "\n",
    "1. Write a brief description of what cosine similarity measures focusing on the geometric interpretation. <br>\n",
    "    **Cosine similarity mesures the similarity of the direction of two vectors.**\n",
    "2. Explain the geometric interpretation of two vectors with cosine similarity of 0. <br>\n",
    "    **Two vectors with cosine similarity of 0 means the two vectors are orthogonal.**\n",
    "3. Explain the geometric interpretation of two vectors with a cosine similarity of 1 or -1. <br>\n",
    "    **Two vectors with a cosine similarity of 1 or -1 means the two vectors are colinear;**<br>\n",
    "    **Two vectors with a cosine similarity of 1 means the two vectors are in the same direction;**<br>\n",
    "    **Two vectors with a cosine similarity of -1 means the two vectors are in the opposite direction;**<br>"
   ]
  },
  {
   "cell_type": "markdown",
   "metadata": {},
   "source": [
    "### 1.3. \n",
    "\n",
    "Manually define 3 numpy arrays (x1,x2,x3) and randomly generate 1 (x4) such that:\n",
    "\n",
    "a) Each has 2 dimensions, and is integer valued from the set [-10,10]<br>\n",
    "b) x1 and x2 are collinear<br>\n",
    "c) x1 and x3 are orthogonal<br>\n",
    "d) x4 is randomly generated using NumPy’s random module, according to the criteria in a)<br>"
   ]
  },
  {
   "cell_type": "code",
   "execution_count": 135,
   "metadata": {},
   "outputs": [
    {
     "name": "stdout",
     "output_type": "stream",
     "text": [
      "x1:\n",
      " [1 1]\n",
      "x2:\n",
      " [2 2]\n",
      "x3:\n",
      " [1, -1]\n",
      "x4:\n",
      " [-4  0]\n"
     ]
    }
   ],
   "source": [
    "x1 = np.ones([2], dtype = int)\n",
    "print(\"x1:\\n\", x1)\n",
    "x2 = 2*(np.ones([2], dtype = int))\n",
    "print(\"x2:\\n\", x2)\n",
    "x3 = [1, -1]\n",
    "print(\"x3:\\n\", x3)\n",
    "x4 = np.random.randint(-10, 10, 2)\n",
    "print(\"x4:\\n\", x4)"
   ]
  },
  {
   "cell_type": "markdown",
   "metadata": {},
   "source": [
    "## 1.4. \n",
    "Print the result of your cosine similarity function applied to the pairs (x1,x2), (x1,x3), and (x1,x4) in a human-understandable way, e.g. “The cosine similarity of [1 1] and [-10 6] is -0.242535”"
   ]
  },
  {
   "cell_type": "code",
   "execution_count": 153,
   "metadata": {},
   "outputs": [
    {
     "name": "stdout",
     "output_type": "stream",
     "text": [
      "1.0\n",
      "0.0\n",
      "-0.707106781187\n",
      "-0.242535625036\n"
     ]
    }
   ],
   "source": [
    "print(cos_sim(x1, x2))\n",
    "print(cos_sim(x1, x3))\n",
    "print(cos_sim(x1, x4))\n",
    "print(cos_sim([1, 1], [-10,6]))"
   ]
  },
  {
   "cell_type": "markdown",
   "metadata": {},
   "source": [
    "### 1.5. \n",
    "\n",
    "Use matplotlib.pyplot’s “quiver” function to graph all of your vectors on the same plane, assigning each a different color<br>\n",
    "a) This stackoverflow page has an example you can use as reference<br>\n",
    "b) You can use np.stack to arrange your data in a similar format to the example<br>"
   ]
  },
  {
   "cell_type": "code",
   "execution_count": 160,
   "metadata": {},
   "outputs": [
    {
     "data": {
      "image/png": "[encoded data removed]",
      "text/plain": [
       "<matplotlib.figure.Figure at 0x113a17d30>"
      ]
     },
     "metadata": {},
     "output_type": "display_data"
    }
   ],
   "source": [
    "import numpy as np\n",
    "import matplotlib.pyplot as plt\n",
    "\n",
    "V = np.array([x1,x2,x3, x4])\n",
    "origin = [0], [0] # origin point\n",
    "\n",
    "plt.quiver(*origin, V[:,0], V[:,1], color=['r','b','g'], scale=10)\n",
    "plt.show()"
   ]
  },
  {
   "cell_type": "markdown",
   "metadata": {},
   "source": [
    "### 1.6. \n",
    "\n",
    "Compute and print out the following values for x4: L1 norm (aka Manhattan), L2 norm (aka Euclidean), L4, and L10 norms"
   ]
  },
  {
   "cell_type": "code",
   "execution_count": 150,
   "metadata": {},
   "outputs": [
    {
     "name": "stdout",
     "output_type": "stream",
     "text": [
      "4.0\n",
      "4.0\n",
      "4.0\n",
      "4.0\n"
     ]
    }
   ],
   "source": [
    "print(np.linalg.norm(x4, ord=1))\n",
    "# The L1 norm that is calculated as the sum of the absolute values of the vector.\n",
    "\n",
    "print(np.linalg.norm(x4, ord=2))\n",
    "# The L2 norm that is calculated as the square root of the sum of the squared vector values.\n",
    "\n",
    "print(np.linalg.norm(x4, ord=4))\n",
    "\n",
    "print(np.linalg.norm(x4, ord=10))"
   ]
  },
  {
   "cell_type": "markdown",
   "metadata": {},
   "source": [
    "### 1.7. \n",
    "\n",
    "Compute and print out the following values for the pair of vectors (x1,x4): L1 distance (Manhattan), L2 distance (Euclidean), L4 distance, and L10 distance"
   ]
  },
  {
   "cell_type": "code",
   "execution_count": 151,
   "metadata": {},
   "outputs": [
    {
     "name": "stdout",
     "output_type": "stream",
     "text": [
      "6.0\n",
      "5.09901951359\n",
      "5.00199880112\n",
      "5.0000000512\n"
     ]
    }
   ],
   "source": [
    "print(np.linalg.norm((x1-x4), ord=1))\n",
    "print(np.linalg.norm((x1-x4), ord=2))\n",
    "print(np.linalg.norm((x1-x4), ord=4))\n",
    "print(np.linalg.norm((x1-x4), ord=10))"
   ]
  },
  {
   "cell_type": "markdown",
   "metadata": {},
   "source": [
    "## Problem 2: Rank, Matrix Inverses, and Solving Linear Systems"
   ]
  },
  {
   "cell_type": "markdown",
   "metadata": {},
   "source": [
    "### 2.1. \n",
    "\n",
    "Using the seed 402, generate a uniform random 3x3 matrix with continuous values from the set [- 10,10). We will call this matrix Mat for the remainder of the problem.<br>\n",
    "\n",
    "a. Print the matrix<br>\n",
    "b. Print the rank of the matrix<br>"
   ]
  },
  {
   "cell_type": "code",
   "execution_count": 140,
   "metadata": {},
   "outputs": [
    {
     "name": "stdout",
     "output_type": "stream",
     "text": [
      "[[-8.98284725 -0.46598279 -3.76715685]\n",
      " [ 8.03269592 -0.09947017 -0.03530441]\n",
      " [ 8.23689424  9.13449309 -3.09868078]]\n",
      "3\n"
     ]
    }
   ],
   "source": [
    "np.random.seed(seed=402)\n",
    "Mat = np.random.uniform(-10, 10, (3, 3))\n",
    "print(Mat)\n",
    "print(np.linalg.matrix_rank(Mat))\n",
    "\n",
    "# The rank of a matrix is the number of independent rows and / or columns of a matrix."
   ]
  },
  {
   "cell_type": "code",
   "execution_count": 166,
   "metadata": {},
   "outputs": [
    {
     "data": {
      "text/plain": [
       "-1.7985612998927539e-14"
      ]
     },
     "execution_count": 166,
     "metadata": {},
     "output_type": "execute_result"
    }
   ],
   "source": [
    "m = [[6, 18, 3], [3, 9, 6], [4, 12, 9]]\n",
    "# print(np.linalg.matrix_rank(m))\n",
    "np.linalg.det(m)"
   ]
  },
  {
   "cell_type": "markdown",
   "metadata": {},
   "source": [
    "### 2.2. \n",
    "\n",
    "In a markdown cell, explain the relationship between the rank of a matrix and the existence of the matrix inverse. Explain the geometric intuition for this relationship.\n",
    "\n",
    "**If the rank of a n x n matrix is less than n, then the matrix doesn't have a matrix inverse. If A is m x n matrix and the rank of A is equal to n, then A has a left inverse. That is an n x m matrix B such that BA = In. If A has rank m, then it has a right inverse: an n x m matrix B such that AB = Im.**\n"
   ]
  },
  {
   "cell_type": "markdown",
   "metadata": {},
   "source": [
    "### 2.3. \n",
    "\n",
    "Calculate and print the multiplicative inverse of Mat using NumPy."
   ]
  },
  {
   "cell_type": "code",
   "execution_count": 141,
   "metadata": {},
   "outputs": [
    {
     "name": "stdout",
     "output_type": "stream",
     "text": [
      "[[-0.00212627  0.12087492  0.0012078 ]\n",
      " [-0.08293177 -0.1984454   0.10308353]\n",
      " [-0.25012371 -0.2636813  -0.01563106]]\n"
     ]
    }
   ],
   "source": [
    "print(np.linalg.inv(Mat))\n",
    "\n",
    "#  The multiplicative inverse of a matrix is the matrix that gives you the identity matrix when multiplied by the original matrix. "
   ]
  },
  {
   "cell_type": "markdown",
   "metadata": {},
   "source": [
    "### 2.4. \n",
    "\n",
    "Use the inverse of Mat to solve the equation below for x. Note that * will denote standard matrix multiplication:<br>\n",
    "𝑀𝑎𝑡 ∗ 𝑥 = 𝑏<br>\n",
    "𝑤h𝑒𝑟𝑒 𝑏 = [1, 2, 3]<br>\n",
    "a. Print x<br>\n",
    "b. Print the result of Mat * x to prove it equals b (Note: using * in NumPy will do\n",
    "component wise multiplication, which is not what we want)<br>"
   ]
  },
  {
   "cell_type": "code",
   "execution_count": 142,
   "metadata": {},
   "outputs": [
    {
     "name": "stdout",
     "output_type": "stream",
     "text": [
      "[ 0.24324697 -0.17057196 -0.82437947]\n",
      "[ 1.  2.  3.]\n"
     ]
    }
   ],
   "source": [
    "x = np.matmul(np.linalg.inv(Mat), b)\n",
    "print(x)\n",
    "print(np.matmul(Mat, x))"
   ]
  },
  {
   "cell_type": "markdown",
   "metadata": {},
   "source": [
    "### 2.5. \n",
    "\n",
    "Use NumPy’s built-in solver (linalg.solve) to find x numerically<br>\n",
    "\n",
    "a. Print the new x<br>\n",
    "b. Always do this in the real world instead of calculating the inverse first in order to preserve numerical stability as much as possible. It can be an issue on larger problems.<br>"
   ]
  },
  {
   "cell_type": "code",
   "execution_count": 143,
   "metadata": {},
   "outputs": [
    {
     "name": "stdout",
     "output_type": "stream",
     "text": [
      "[ 0.24324697 -0.17057196 -0.82437947]\n",
      "[ 1.  2.  3.]\n"
     ]
    }
   ],
   "source": [
    "b = [1, 2, 3]\n",
    "x = np.linalg.solve(Mat, b)\n",
    "print(x)\n",
    "print(np.matmul(Mat, x))"
   ]
  },
  {
   "cell_type": "markdown",
   "metadata": {},
   "source": [
    "### 2.6. \n",
    "\n",
    "Define a new matrix, newMat: [[(1, -1, 1), (-3, 2, 4), (-1, 0, 6)]],<br>\n",
    "    \n",
    "a. Print newMat’s rank<br>\n",
    "b. Print newMat’s inverse<br>\n",
    "c. Print newMat*newMatInverse<br>\n",
    "d. Solve the equation in part 4, substituting newMat for Mat<br>\n",
    "e. Notice the lack of errors and think about the implications when you may need to use\n",
    "these functions in designing a machine learning algorithm. Write these thoughts in a separate markdown cell.<br>"
   ]
  },
  {
   "cell_type": "code",
   "execution_count": 144,
   "metadata": {},
   "outputs": [
    {
     "name": "stdout",
     "output_type": "stream",
     "text": [
      "2\n",
      "[[ -6.23575333e+15  -3.11787667e+15   3.11787667e+15]\n",
      " [ -7.27504555e+15  -3.63752278e+15   3.63752278e+15]\n",
      " [ -1.03929222e+15  -5.19646111e+14   5.19646111e+14]]\n",
      "[[ 1.5   -0.25   0.375]\n",
      " [-2.     1.    -0.5  ]\n",
      " [ 0.     0.     0.75 ]]\n"
     ]
    },
    {
     "data": {
      "text/plain": [
       "array([ -3.11787667e+15,  -3.63752278e+15,  -5.19646111e+14])"
      ]
     },
     "execution_count": 144,
     "metadata": {},
     "output_type": "execute_result"
    }
   ],
   "source": [
    "newMat = [[1, -1, 1],\n",
    "          [-3, 2, 4],\n",
    "          [-1, 0, 6]]\n",
    "newMat\n",
    "print(np.linalg.matrix_rank(newMat))\n",
    "newMatInverse = np.linalg.inv(newMat)\n",
    "print(newMatInverse)\n",
    "print(np.matmul(newMat, newMatInverse))\n",
    "x = np.linalg.solve(newMat, b)\n",
    "x"
   ]
  },
  {
   "cell_type": "markdown",
   "metadata": {},
   "source": [
    "### 2.7. \n",
    "\n",
    "Now approximate the solution for x in equation 4 with newMat substituted using linalg.lstsq, which performs least squares approximation<br>\n",
    "a. Print the solution<br>\n",
    "b. Print newMat*solution, which we will call b' since it is an approximation of b<br>\n",
    "c. Print the Euclidean distance between b and b'<br>"
   ]
  },
  {
   "cell_type": "code",
   "execution_count": 145,
   "metadata": {},
   "outputs": [
    {
     "name": "stdout",
     "output_type": "stream",
     "text": [
      "[ 0.03100775 -0.10271318  0.53294574]\n",
      "[ 0.66666667  1.83333333  3.16666667]\n",
      "0.408248290464\n"
     ]
    }
   ],
   "source": [
    "x = np.linalg.lstsq(newMat, b)[0]\n",
    "print(x)\n",
    "b_ = np.matmul(newMat, x)\n",
    "print(b_)\n",
    "print(np.linalg.norm(b-b_))"
   ]
  },
  {
   "cell_type": "markdown",
   "metadata": {},
   "source": [
    "## Problem 3: Determinants, Eigenvalues, and Positive Definite Matrices"
   ]
  },
  {
   "cell_type": "markdown",
   "metadata": {},
   "source": [
    "### 3.1. \n",
    "\n",
    "Using a normal distribution and the seed 88, generate a random 3x3 matrix with a mean of 5 and variance of 10. This matrix will be referred to as Mat2 for the rest of the problem.<br>\n",
    "a. Print Mat2"
   ]
  },
  {
   "cell_type": "code",
   "execution_count": 146,
   "metadata": {},
   "outputs": [
    {
     "data": {
      "text/plain": [
       "array([[  5.33799785,  11.97540026,   8.02491684],\n",
       "       [  5.21633489,   8.37893737,   8.15336839],\n",
       "       [  2.05418684,   7.30982403,   4.45857477]])"
      ]
     },
     "execution_count": 146,
     "metadata": {},
     "output_type": "execute_result"
    }
   ],
   "source": [
    "np.random.seed(seed=88)\n",
    "Mat2 = np.random.normal(5, np.sqrt(10), (3, 3))\n",
    "Mat2"
   ]
  },
  {
   "cell_type": "markdown",
   "metadata": {},
   "source": [
    "### 3.2. \n",
    "\n",
    "Calculate the determinant of Mat2, and print it"
   ]
  },
  {
   "cell_type": "code",
   "execution_count": 147,
   "metadata": {},
   "outputs": [
    {
     "data": {
      "text/plain": [
       "-28.801935084011454"
      ]
     },
     "execution_count": 147,
     "metadata": {},
     "output_type": "execute_result"
    }
   ],
   "source": [
    "np.linalg.det(Mat2)"
   ]
  },
  {
   "cell_type": "markdown",
   "metadata": {},
   "source": [
    "### 3.3. \n",
    "\n",
    "In a markdown box, give the brief geometric intuition for what a determinant means and what it means for a determinant to be negative. What would a 0 determinant mean then?"
   ]
  },
  {
   "cell_type": "markdown",
   "metadata": {},
   "source": [
    "**From a geometric perspective, a determinant is the volume scaling factor of the linear transformation of the matrix. The determinant is positive or negative according to whether the linear mapping preserves or reverses the orientation of n-space. If the determinant of a square matrix n × n A is zero, then the matrix is not invertible.**"
   ]
  },
  {
   "cell_type": "markdown",
   "metadata": {},
   "source": [
    "### 3.4. \n",
    "\n",
    "Calculate the eigenvalues and eigenvectors of Mat2, and print them (printing the pair of returned arrays is fine)"
   ]
  },
  {
   "cell_type": "code",
   "execution_count": 148,
   "metadata": {},
   "outputs": [
    {
     "name": "stdout",
     "output_type": "stream",
     "text": [
      "[ 19.75530817   0.65297116  -2.23276935]\n",
      "[[-0.70696977 -0.8022028   0.42320826]\n",
      " [-0.59649451 -0.08242487 -0.67359825]\n",
      " [-0.37998426  0.59133477  0.60593743]]\n"
     ]
    }
   ],
   "source": [
    "w, v = np.linalg.eig(Mat2)\n",
    "print(w)\n",
    "print(v)"
   ]
  },
  {
   "cell_type": "markdown",
   "metadata": {},
   "source": [
    "### 3.5. \n",
    "\n",
    "In a markdown cell, give a geometric understanding of what an eigenvector and its associated eigenvalue represent. What does a 0 eigenvalue mean?\n",
    "\n",
    "**Suppose that A is the standard matrix for a linear transformation T : R^n → R^n. Then if Ax = λx, it follows that T(x) = λx. This means that if x is an eigenvector of A, then the image of x under the transformation T is a scalar multiple of x – and the scalar involved is the corresponding eigenvalue λ. In other words, the image of x is parallel to x**<br>\n",
    "\n",
    "**Suppose that 0 is an eigenvalue of A. There must be some nontrivialvector x for which Ax = 0x = 0, which implies that A is not invertible which implies a whole lot of things given our Invertible Matrix Theorem**"
   ]
  },
  {
   "cell_type": "code",
   "execution_count": null,
   "metadata": {},
   "outputs": [],
   "source": []
  }
 ],
 "metadata": {
  "kernelspec": {
   "display_name": "Python 3",
   "language": "python",
   "name": "python3"
  },
  "language_info": {
   "codemirror_mode": {
    "name": "ipython",
    "version": 3
   },
   "file_extension": ".py",
   "mimetype": "text/x-python",
   "name": "python",
   "nbconvert_exporter": "python",
   "pygments_lexer": "ipython3",
   "version": "3.6.4"
  }
 },
 "nbformat": 4,
 "nbformat_minor": 2
}
