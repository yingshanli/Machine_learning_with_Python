{
 "cells": [
  {
   "cell_type": "markdown",
   "metadata": {
    "collapsed": true
   },
   "source": [
    "# Decision Tree\n",
    "\n",
    "\n",
    "Decision Trees are a non-parametric supervised learning method. Decision Trees are versatile algorithms (can perform both classification and regression) and even multioutput tasks. They are very powerful algorithms, capable of fitting complex datasets. \n",
    "\n",
    "Decision Trees create a model that predicts the value of a target variable by **learning simple decision rules** inferred from the data features.\n",
    "\n",
    "\n",
    "\n",
    "## Key Property: Interpretability\n",
    "\n",
    "A key property of tree-based models is that they are readily interpretable by humans. Such models are often called **white box** models. \n",
    "\n",
    "In contrast, Random Forests or neural networks are generally considered black box models. They make great predictions, nevertheless, it is usually hard to explain in simple terms why the predictions were made.\n",
    "\n",
    "\n",
    "## Estimating Class Probabilities\n",
    "\n",
    "Decision Trees can estimate the probability that an instance belongs to a particular class.\n",
    "\n",
    "\n",
    "\n",
    "## Advantages\n",
    "\n",
    "Other than the above two advantages there are other benefits of Decesion Trees.\n",
    "\n",
    "- Simple to understand and to interpret. Trees can be visualised.\n",
    "\n",
    "- Requires little data preparation. Other techniques often require data normalisation, dummy variables need to be created and blank values to be removed. Note however that this module does not support missing values.\n",
    "\n",
    "- The cost of using the tree (i.e., predicting data) is logarithmic in the number of data points used to train the tree.\n",
    "\n",
    "- Able to handle both numerical and categorical data. Other techniques are usually specialised in analysing datasets that have only one type of variable. See algorithms for more information.\n",
    "\n",
    "- Able to handle multi-output problems.\n",
    "\n",
    "- Possible to validate a model using statistical tests. That makes it possible to account for the reliability of the model.\n",
    "\n",
    "\n",
    "\n",
    "## Disadvantages\n",
    "\n",
    "- Decision-tree learners can create over-complex trees that do not generalise the data well. This is called overfitting. Mechanisms such as pruning (not currently supported), setting the minimum number of samples required at a leaf node or setting the maximum depth of the tree are necessary to avoid this problem.\n",
    "\n",
    "- Decision trees can be unstable because small variations in the data might result in a completely different tree being generated. This problem is mitigated by using decision trees within an ensemble.\n",
    "\n",
    "- The problem of learning an optimal decision tree is known to be NP-complete under several aspects of optimality and even for simple concepts. Consequently, practical decision-tree learning algorithms are based on heuristic algorithms such as the greedy algorithm where locally optimal decisions are made at each node. Such algorithms cannot guarantee to return the globally optimal decision tree. This can be mitigated by training multiple trees in an ensemble learner, where the features and samples are randomly sampled with replacement.\n",
    "\n",
    "- There are concepts that are hard to learn because decision trees do not express them easily, such as XOR, parity or multiplexer problems.\n",
    "\n",
    "- Decision tree learners create biased trees if some classes dominate. It is therefore recommended to balance the dataset prior to fitting with the decision tree.\n",
    "\n",
    "\n",
    "\n",
    "## Decision Tree: Algorithms\n",
    "\n",
    "In a Decision Tree the goal is to find the right combination of the features to correctly distinguish the output. There are many possible ways to combine the features. \n",
    "\n",
    "Each possible combination is a hypothsis. Finding the optimal hypothesis (combination of features) is a **NP-Complete** problem. It requires $O(exp(n_{samples}))$ time, making the problem intractable even for fairly small training sets. This is why we must settle for a \"reasonably good\" solution.\n",
    "\n",
    "\n",
    "Thus, to find an approximate solution a **greedy optimization heuristic** is used.\n",
    "     - Start from an empty decision tree.\n",
    "     - Split on next best attribute (feature).\n",
    "     - Recurse.\n",
    "     \n",
    "The greedy search used in decision tree learning is designed to approximately **minimize the depth of the final tree**.  \n",
    "     \n",
    "There are various decision tree algorithms. It is useful to know how they differ from each other.\n",
    "\n",
    "\n",
    "- ID3 (Iterative Dichotomiser 3) was developed in 1986 by Ross Quinlan. The algorithm creates a **multiway tree**, finding for each node (i.e. in a greedy manner) the **categorical feature** that will yield the largest information gain for categorical targets. Trees are grown to their maximum size and then a **pruning step** is usually applied to improve the ability of the tree to generalise to unseen data.\n",
    "\n",
    "- C4.5 is the successor to ID3 and **removed the restriction** that features must be categorical by dynamically defining a discrete attribute (based on numerical variables) that partitions the continuous attribute value into a discrete set of intervals. C4.5 converts the trained trees (i.e. the output of the ID3 algorithm) into sets of **if-then rules**. These accuracy of each rule is then evaluated to determine the order in which they should be applied. Pruning is done by removing a rule’s precondition if the accuracy of the rule improves without it.\n",
    "\n",
    "- C5.0 is Quinlan’s latest version release under a proprietary license. It uses less memory and builds smaller rulesets than C4.5 while being more accurate.\n",
    "\n",
    "- CART (Classification and Regression Trees) is very similar to C4.5, but it differs in that it **supports numerical target variables (regression) and does not compute rule sets**. CART constructs **binary trees** using the feature and threshold that yield the largest information gain at each node.\n",
    "\n",
    "\n",
    "\n",
    "\n",
    "## Decision Tree: Scikit-Learn\n",
    "\n",
    "Scikit-Learn uses an optimized version of the Classification and Regression Tree (CART) algorithm to train Decision Trees. \n",
    "\n",
    "However, scikit-learn implementation **does not support categorical variables** for now.\n",
    "\n",
    "\n",
    "### Handling Overfiting in Sklearn Decision Tree\n",
    "\n",
    "Note that sklearn CART algorithm **doesn't support pruning**. \n",
    "\n",
    "Thus to handle overfitting, we should carefully tune the hyperparameters that includes the following two very important hyperparameters.\n",
    "- Maximum depth of the tree \n",
    "- Minimum number of samples required at a leaf node \n",
    "\n",
    "\n",
    "## Computational Complexity\n",
    "\n",
    "Training complexity: $O(d × n log_2(n))$ \n",
    "\n",
    "Prediction complexity: $O(log_2(n))$ \n",
    "\n",
    "\n",
    "Here:\n",
    "- d: number of features\n",
    "- n: number of samples\n",
    "\n",
    "#### Observe that although prediction is faster, training is considerably slow for larger training sets."
   ]
  },
  {
   "cell_type": "code",
   "execution_count": 2,
   "metadata": {
    "collapsed": true
   },
   "outputs": [],
   "source": [
    "import numpy as np\n",
    "\n",
    "# To plot pretty figures\n",
    "%matplotlib inline\n",
    "import matplotlib as mpl\n",
    "import matplotlib.pyplot as plt\n",
    "\n",
    "\n",
    "from sklearn.datasets import load_iris\n",
    "from sklearn.tree import DecisionTreeClassifier\n",
    "from sklearn.model_selection import train_test_split\n",
    "from sklearn.metrics import accuracy_score\n",
    "from sklearn.tree import export_graphviz\n",
    "import graphviz"
   ]
  },
  {
   "cell_type": "markdown",
   "metadata": {},
   "source": [
    "# Dataset\n",
    "\n",
    "\n",
    "We will use the iris dataset, which is a multivariate data set. \n",
    "\n",
    "This is a famous dataset that contains the sepal and petal length and width of 150 iris flowers of three different species: Iris-Setosa, Iris-Versicolor, and Iris-Virginica\n",
    "\n",
    "There are 4 features: \n",
    "- sepal length (cm)\n",
    "- sepal width (cm)\n",
    "- petal length (cm)\n",
    "- petal width (cm)\n",
    "\n",
    "Total number of samples: 150\n",
    "\n",
    "The dataset is also known as Fisher's Iris data set as it was introduced by the British statistician and biologist Ronald Fisher in his 1936 paper \"The use of multiple measurements in taxonomic problems as an example of linear discriminant analysis\".\n",
    "\n",
    "\n",
    "<img src=\"https://cse.unl.edu/~hasan/IrisFlowers.png\",width=800,height=400>\n",
    "\n",
    "## We will use 2 features (petal length and width) for better understanding of the decision rule and visualization."
   ]
  },
  {
   "cell_type": "code",
   "execution_count": 3,
   "metadata": {
    "collapsed": false
   },
   "outputs": [],
   "source": [
    "iris = load_iris()\n",
    "\n",
    "X = iris.data[:, 2:] # petal length and width \n",
    "y = iris.target"
   ]
  },
  {
   "cell_type": "markdown",
   "metadata": {},
   "source": [
    "## Decision Tree: Key Hyperparameters\n",
    "\n",
    "\n",
    "We will use the following hyperparameters of the DecisionTreeClassifier class. \n",
    "\n",
    "For a full list of the hyperparameters visit: https://scikit-learn.org/stable/modules/generated/sklearn.tree.DecisionTreeClassifier.html#sklearn.tree.DecisionTreeClassifier\n",
    "\n",
    "\n",
    "\n",
    "- criterion : The function to measure the quality of a split. Supported criteria are “gini” for the Gini impurity and “entropy” for the information gain. Note: this parameter is tree-specific. Default=”gini”\n",
    "\n",
    "\n",
    "- max_depth : The maximum depth of the tree. If None, then nodes are expanded until all leaves are pure or until all leaves contain less than min_samples_split samples. Default=None\n",
    "\n",
    "\n",
    "- min_samples_split : The minimum number of samples required to split an internal node: Default=2\n",
    "\n",
    "        -- If int, then consider min_samples_split as the minimum number.\n",
    "        -- If float, then min_samples_split is a fraction and ceil(min_samples_split * n_samples) are the minimum number of samples for each split.\n",
    "\n",
    "\n",
    "\n",
    "- min_samples_leaf : The minimum number of samples required to be at a leaf node. A split point at any depth will only be considered if it leaves at least min_samples_leaf training samples in each of the left and right branches. This may have the effect of smoothing the model, especially in regression. Default=1\n",
    "\n",
    "\n",
    "         -- If int, then consider min_samples_leaf as the minimum number.\n",
    "         -- If float, then min_samples_leaf is a fraction and ceil(min_samples_leaf * n_samples) are the minimum number of samples for each node.\n",
    "\n",
    "\n",
    "- max_features : The number of features to consider when looking for the best split. Default=\"auto\".\n",
    "\n",
    "        -- If int, then consider max_features features at each split.\n",
    "        -- If float, then max_features is a fraction and int(max_features * n_features) features are considered at each split.\n",
    "        -- If “auto”, then max_features=sqrt(n_features).\n",
    "        -- If “sqrt”, then max_features=sqrt(n_features) (same as “auto”).\n",
    "        -- If “log2”, then max_features=log2(n_features).\n",
    "        -- If None, then max_features=n_features.\n",
    "\n",
    "\n",
    "- max_leaf_nodes : Grow trees with max_leaf_nodes in best-first fashion. Best nodes are defined as relative reduction in impurity. If None then unlimited number of leaf nodes. Default=None\n",
    "\n",
    "\n",
    "- class_weight : Weights associated with classes in the form {class_label: weight}. If not given, all classes are supposed to have weight one. For multi-output problems, a list of dicts can be provided in the same order as the columns of y. Default=None\n",
    "\n",
    "         -- The “balanced” mode uses the values of y to automatically adjust weights inversely proportional to class frequencies in the input data as n_samples / (n_classes * np.bincount(y))\n",
    "\n"
   ]
  },
  {
   "cell_type": "markdown",
   "metadata": {},
   "source": [
    "## Growing (Training) a Decision Tree\n",
    "\n",
    "We use only one hyperparameter (max_depth) to train the decision tree. Our goal is to understand the process of creating the decision rule and visualize it. Thus, a shallow tree would be convenient for investigation.\n",
    "\n",
    "However, we should remember that Decision Trees are prone to overfitting (high variance) when it uses large depth. Thus we should handle the overfitting in deep Decision Trees by tuning the following two key hyperparameters.\n",
    "- Setting the maximum depth of the tree (max_depth)\n",
    "- Setting the minimum number of samples required at a leaf node (min_samples_leaf)\n"
   ]
  },
  {
   "cell_type": "code",
   "execution_count": 4,
   "metadata": {
    "collapsed": false
   },
   "outputs": [
    {
     "name": "stdout",
     "output_type": "stream",
     "text": [
      "Accuracy:  0.96\n"
     ]
    }
   ],
   "source": [
    "tree_clf = DecisionTreeClassifier(max_depth=2)\n",
    "tree_clf.fit(X, y)\n",
    "\n",
    "y_predict = tree_clf.predict(X)\n",
    "\n",
    "print(\"Accuracy: \", accuracy_score(y, y_predict))"
   ]
  },
  {
   "cell_type": "markdown",
   "metadata": {},
   "source": [
    "## Visualizating The Decision Tree"
   ]
  },
  {
   "cell_type": "markdown",
   "metadata": {},
   "source": [
    "We can visualize the trained Decision Tree by using the  Graphviz format. \n",
    "\n",
    "\n",
    "Graphviz is an open source **Graph Visualization** software to represent structural information as diagrams of abstract graphs and networks.\n",
    "https://graphviz.gitlab.io/about/\n",
    "\n",
    "Graphviz draws graphs specified in DOT language scripts which is a graph description language.\n",
    "\n",
    "\n",
    "We can export the tree in Graphviz format using the **export_graphviz** exporter method. \n",
    "\n",
    "### Install GraphViz Package\n",
    "\n",
    "The graphviz binaries and the python package can be installed with the conda package manager as follows:\n",
    "\n",
    "        conda install python-graphviz\n",
    "\n",
    "\n",
    "Alternatively binaries for graphviz can be downloaded from the graphviz project homepage, and the Python wrapper installed from pypi with pip install graphviz.\n",
    "\n",
    "Below is an example graphviz export of the above tree trained on the entire iris dataset.\n",
    "\n",
    "The results can be saved in an output file (e.g., iris.pdf) by using the following statement at the end: graph.render(\"iris\") "
   ]
  },
  {
   "cell_type": "code",
   "execution_count": 5,
   "metadata": {
    "collapsed": false
   },
   "outputs": [
    {
     "data": {
      "image/svg+xml": [
       "<?xml version=\"1.0\" encoding=\"UTF-8\" standalone=\"no\"?>\n",
       "<!DOCTYPE svg PUBLIC \"-//W3C//DTD SVG 1.1//EN\"\n",
       " \"http://www.w3.org/Graphics/SVG/1.1/DTD/svg11.dtd\">\n",
       "<!-- Generated by graphviz version 2.38.0 (20140413.2041)\n",
       " -->\n",
       "<!-- Title: Tree Pages: 1 -->\n",
       "<svg width=\"320pt\" height=\"258pt\"\n",
       " viewBox=\"0.00 0.00 319.54 258.00\" xmlns=\"http://www.w3.org/2000/svg\" xmlns:xlink=\"http://www.w3.org/1999/xlink\">\n",
       "<g id=\"graph0\" class=\"graph\" transform=\"scale(1 1) rotate(0) translate(4 254)\">\n",
       "<title>Tree</title>\n",
       "<polygon fill=\"white\" stroke=\"none\" points=\"-4,4 -4,-254 315.537,-254 315.537,4 -4,4\"/>\n",
       "<!-- 0 -->\n",
       "<g id=\"node1\" class=\"node\"><title>0</title>\n",
       "<polygon fill=\"none\" stroke=\"black\" points=\"186.307,-250 60.2306,-250 60.2306,-186 186.307,-186 186.307,-250\"/>\n",
       "<text text-anchor=\"middle\" x=\"123.269\" y=\"-234.8\" font-family=\"Times,serif\" font-size=\"14.00\">X[0] &lt;= 2.45</text>\n",
       "<text text-anchor=\"middle\" x=\"123.269\" y=\"-220.8\" font-family=\"Times,serif\" font-size=\"14.00\">gini = 0.667</text>\n",
       "<text text-anchor=\"middle\" x=\"123.269\" y=\"-206.8\" font-family=\"Times,serif\" font-size=\"14.00\">samples = 150</text>\n",
       "<text text-anchor=\"middle\" x=\"123.269\" y=\"-192.8\" font-family=\"Times,serif\" font-size=\"14.00\">value = [50, 50, 50]</text>\n",
       "</g>\n",
       "<!-- 1 -->\n",
       "<g id=\"node2\" class=\"node\"><title>1</title>\n",
       "<polygon fill=\"none\" stroke=\"black\" points=\"112.307,-143 0.230497,-143 0.230497,-93 112.307,-93 112.307,-143\"/>\n",
       "<text text-anchor=\"middle\" x=\"56.2686\" y=\"-127.8\" font-family=\"Times,serif\" font-size=\"14.00\">gini = 0.0</text>\n",
       "<text text-anchor=\"middle\" x=\"56.2686\" y=\"-113.8\" font-family=\"Times,serif\" font-size=\"14.00\">samples = 50</text>\n",
       "<text text-anchor=\"middle\" x=\"56.2686\" y=\"-99.8\" font-family=\"Times,serif\" font-size=\"14.00\">value = [50, 0, 0]</text>\n",
       "</g>\n",
       "<!-- 0&#45;&gt;1 -->\n",
       "<g id=\"edge1\" class=\"edge\"><title>0&#45;&gt;1</title>\n",
       "<path fill=\"none\" stroke=\"black\" d=\"M102.069,-185.992C94.6276,-175.107 86.2455,-162.847 78.7056,-151.818\"/>\n",
       "<polygon fill=\"black\" stroke=\"black\" points=\"81.4065,-149.567 72.8734,-143.288 75.6279,-153.518 81.4065,-149.567\"/>\n",
       "<text text-anchor=\"middle\" x=\"68.2572\" y=\"-163.658\" font-family=\"Times,serif\" font-size=\"14.00\">True</text>\n",
       "</g>\n",
       "<!-- 2 -->\n",
       "<g id=\"node3\" class=\"node\"><title>2</title>\n",
       "<polygon fill=\"none\" stroke=\"black\" points=\"249.807,-150 130.731,-150 130.731,-86 249.807,-86 249.807,-150\"/>\n",
       "<text text-anchor=\"middle\" x=\"190.269\" y=\"-134.8\" font-family=\"Times,serif\" font-size=\"14.00\">X[1] &lt;= 1.75</text>\n",
       "<text text-anchor=\"middle\" x=\"190.269\" y=\"-120.8\" font-family=\"Times,serif\" font-size=\"14.00\">gini = 0.5</text>\n",
       "<text text-anchor=\"middle\" x=\"190.269\" y=\"-106.8\" font-family=\"Times,serif\" font-size=\"14.00\">samples = 100</text>\n",
       "<text text-anchor=\"middle\" x=\"190.269\" y=\"-92.8\" font-family=\"Times,serif\" font-size=\"14.00\">value = [0, 50, 50]</text>\n",
       "</g>\n",
       "<!-- 0&#45;&gt;2 -->\n",
       "<g id=\"edge2\" class=\"edge\"><title>0&#45;&gt;2</title>\n",
       "<path fill=\"none\" stroke=\"black\" d=\"M144.468,-185.992C150.456,-177.234 157.052,-167.585 163.329,-158.404\"/>\n",
       "<polygon fill=\"black\" stroke=\"black\" points=\"166.223,-160.373 168.977,-150.142 160.444,-156.422 166.223,-160.373\"/>\n",
       "<text text-anchor=\"middle\" x=\"173.593\" y=\"-170.513\" font-family=\"Times,serif\" font-size=\"14.00\">False</text>\n",
       "</g>\n",
       "<!-- 3 -->\n",
       "<g id=\"node4\" class=\"node\"><title>3</title>\n",
       "<polygon fill=\"none\" stroke=\"black\" points=\"180.307,-50 68.2305,-50 68.2305,-0 180.307,-0 180.307,-50\"/>\n",
       "<text text-anchor=\"middle\" x=\"124.269\" y=\"-34.8\" font-family=\"Times,serif\" font-size=\"14.00\">gini = 0.168</text>\n",
       "<text text-anchor=\"middle\" x=\"124.269\" y=\"-20.8\" font-family=\"Times,serif\" font-size=\"14.00\">samples = 54</text>\n",
       "<text text-anchor=\"middle\" x=\"124.269\" y=\"-6.8\" font-family=\"Times,serif\" font-size=\"14.00\">value = [0, 49, 5]</text>\n",
       "</g>\n",
       "<!-- 2&#45;&gt;3 -->\n",
       "<g id=\"edge3\" class=\"edge\"><title>2&#45;&gt;3</title>\n",
       "<path fill=\"none\" stroke=\"black\" d=\"M167.74,-85.9375C161.287,-77.0413 154.24,-67.3236 147.733,-58.352\"/>\n",
       "<polygon fill=\"black\" stroke=\"black\" points=\"150.401,-56.0702 141.697,-50.0301 144.735,-60.1801 150.401,-56.0702\"/>\n",
       "</g>\n",
       "<!-- 4 -->\n",
       "<g id=\"node5\" class=\"node\"><title>4</title>\n",
       "<polygon fill=\"none\" stroke=\"black\" points=\"311.307,-50 199.23,-50 199.23,-0 311.307,-0 311.307,-50\"/>\n",
       "<text text-anchor=\"middle\" x=\"255.269\" y=\"-34.8\" font-family=\"Times,serif\" font-size=\"14.00\">gini = 0.043</text>\n",
       "<text text-anchor=\"middle\" x=\"255.269\" y=\"-20.8\" font-family=\"Times,serif\" font-size=\"14.00\">samples = 46</text>\n",
       "<text text-anchor=\"middle\" x=\"255.269\" y=\"-6.8\" font-family=\"Times,serif\" font-size=\"14.00\">value = [0, 1, 45]</text>\n",
       "</g>\n",
       "<!-- 2&#45;&gt;4 -->\n",
       "<g id=\"edge4\" class=\"edge\"><title>2&#45;&gt;4</title>\n",
       "<path fill=\"none\" stroke=\"black\" d=\"M212.456,-85.9375C218.811,-77.0413 225.752,-67.3236 232.16,-58.352\"/>\n",
       "<polygon fill=\"black\" stroke=\"black\" points=\"235.14,-60.2018 238.104,-50.0301 229.444,-56.1331 235.14,-60.2018\"/>\n",
       "</g>\n",
       "</g>\n",
       "</svg>\n"
      ],
      "text/plain": [
       "<graphviz.files.Source at 0x12835eb70>"
      ]
     },
     "execution_count": 5,
     "metadata": {},
     "output_type": "execute_result"
    }
   ],
   "source": [
    "dot_data = export_graphviz(tree_clf, out_file=None) \n",
    "\n",
    "graph = graphviz.Source(dot_data) \n",
    "\n",
    "# Visualize the graph\n",
    "graph"
   ]
  },
  {
   "cell_type": "markdown",
   "metadata": {},
   "source": [
    "## Informed Visualization\n",
    "\n",
    "We can generate more informed visualization.\n",
    "\n",
    "The export_graphviz exporter allows us to color the nodes by their class (or value for regression) and using explicit variable and class names if desired. \n",
    "\n",
    "Jupyter notebook also render these plots inline automatically."
   ]
  },
  {
   "cell_type": "code",
   "execution_count": 6,
   "metadata": {
    "collapsed": false
   },
   "outputs": [
    {
     "data": {
      "image/svg+xml": [
       "<?xml version=\"1.0\" encoding=\"UTF-8\" standalone=\"no\"?>\n",
       "<!DOCTYPE svg PUBLIC \"-//W3C//DTD SVG 1.1//EN\"\n",
       " \"http://www.w3.org/Graphics/SVG/1.1/DTD/svg11.dtd\">\n",
       "<!-- Generated by graphviz version 2.38.0 (20140413.2041)\n",
       " -->\n",
       "<!-- Title: Tree Pages: 1 -->\n",
       "<svg width=\"359pt\" height=\"300pt\"\n",
       " viewBox=\"0.00 0.00 358.91 300.00\" xmlns=\"http://www.w3.org/2000/svg\" xmlns:xlink=\"http://www.w3.org/1999/xlink\">\n",
       "<g id=\"graph0\" class=\"graph\" transform=\"scale(1 1) rotate(0) translate(4 296)\">\n",
       "<title>Tree</title>\n",
       "<polygon fill=\"white\" stroke=\"none\" points=\"-4,4 -4,-296 354.906,-296 354.906,4 -4,4\"/>\n",
       "<!-- 0 -->\n",
       "<g id=\"node1\" class=\"node\"><title>0</title>\n",
       "<path fill=\"none\" stroke=\"black\" d=\"M213.601,-292C213.601,-292 66.3053,-292 66.3053,-292 60.3053,-292 54.3053,-286 54.3053,-280 54.3053,-280 54.3053,-226 54.3053,-226 54.3053,-220 60.3053,-214 66.3053,-214 66.3053,-214 213.601,-214 213.601,-214 219.601,-214 225.601,-220 225.601,-226 225.601,-226 225.601,-280 225.601,-280 225.601,-286 219.601,-292 213.601,-292\"/>\n",
       "<text text-anchor=\"middle\" x=\"139.953\" y=\"-276.8\" font-family=\"Helvetica,sans-Serif\" font-size=\"14.00\">petal length (cm) &lt;= 2.45</text>\n",
       "<text text-anchor=\"middle\" x=\"139.953\" y=\"-262.8\" font-family=\"Helvetica,sans-Serif\" font-size=\"14.00\">gini = 0.667</text>\n",
       "<text text-anchor=\"middle\" x=\"139.953\" y=\"-248.8\" font-family=\"Helvetica,sans-Serif\" font-size=\"14.00\">samples = 150</text>\n",
       "<text text-anchor=\"middle\" x=\"139.953\" y=\"-234.8\" font-family=\"Helvetica,sans-Serif\" font-size=\"14.00\">value = [50, 50, 50]</text>\n",
       "<text text-anchor=\"middle\" x=\"139.953\" y=\"-220.8\" font-family=\"Helvetica,sans-Serif\" font-size=\"14.00\">class = setosa</text>\n",
       "</g>\n",
       "<!-- 1 -->\n",
       "<g id=\"node2\" class=\"node\"><title>1</title>\n",
       "<path fill=\"#e58139\" stroke=\"black\" d=\"M107.859,-171C107.859,-171 12.0468,-171 12.0468,-171 6.04684,-171 0.0468384,-165 0.0468384,-159 0.0468384,-159 0.0468384,-119 0.0468384,-119 0.0468384,-113 6.04684,-107 12.0468,-107 12.0468,-107 107.859,-107 107.859,-107 113.859,-107 119.859,-113 119.859,-119 119.859,-119 119.859,-159 119.859,-159 119.859,-165 113.859,-171 107.859,-171\"/>\n",
       "<text text-anchor=\"middle\" x=\"59.9531\" y=\"-155.8\" font-family=\"Helvetica,sans-Serif\" font-size=\"14.00\">gini = 0.0</text>\n",
       "<text text-anchor=\"middle\" x=\"59.9531\" y=\"-141.8\" font-family=\"Helvetica,sans-Serif\" font-size=\"14.00\">samples = 50</text>\n",
       "<text text-anchor=\"middle\" x=\"59.9531\" y=\"-127.8\" font-family=\"Helvetica,sans-Serif\" font-size=\"14.00\">value = [50, 0, 0]</text>\n",
       "<text text-anchor=\"middle\" x=\"59.9531\" y=\"-113.8\" font-family=\"Helvetica,sans-Serif\" font-size=\"14.00\">class = setosa</text>\n",
       "</g>\n",
       "<!-- 0&#45;&gt;1 -->\n",
       "<g id=\"edge1\" class=\"edge\"><title>0&#45;&gt;1</title>\n",
       "<path fill=\"none\" stroke=\"black\" d=\"M112.645,-213.769C104.71,-202.66 96.0311,-190.509 88.0482,-179.333\"/>\n",
       "<polygon fill=\"black\" stroke=\"black\" points=\"90.7636,-177.113 82.1032,-171.01 85.0675,-181.182 90.7636,-177.113\"/>\n",
       "<text text-anchor=\"middle\" x=\"77.9932\" y=\"-191.47\" font-family=\"Helvetica,sans-Serif\" font-size=\"14.00\">True</text>\n",
       "</g>\n",
       "<!-- 2 -->\n",
       "<g id=\"node3\" class=\"node\"><title>2</title>\n",
       "<path fill=\"none\" stroke=\"black\" d=\"M292.139,-178C292.139,-178 149.767,-178 149.767,-178 143.767,-178 137.767,-172 137.767,-166 137.767,-166 137.767,-112 137.767,-112 137.767,-106 143.767,-100 149.767,-100 149.767,-100 292.139,-100 292.139,-100 298.139,-100 304.139,-106 304.139,-112 304.139,-112 304.139,-166 304.139,-166 304.139,-172 298.139,-178 292.139,-178\"/>\n",
       "<text text-anchor=\"middle\" x=\"220.953\" y=\"-162.8\" font-family=\"Helvetica,sans-Serif\" font-size=\"14.00\">petal width (cm) &lt;= 1.75</text>\n",
       "<text text-anchor=\"middle\" x=\"220.953\" y=\"-148.8\" font-family=\"Helvetica,sans-Serif\" font-size=\"14.00\">gini = 0.5</text>\n",
       "<text text-anchor=\"middle\" x=\"220.953\" y=\"-134.8\" font-family=\"Helvetica,sans-Serif\" font-size=\"14.00\">samples = 100</text>\n",
       "<text text-anchor=\"middle\" x=\"220.953\" y=\"-120.8\" font-family=\"Helvetica,sans-Serif\" font-size=\"14.00\">value = [0, 50, 50]</text>\n",
       "<text text-anchor=\"middle\" x=\"220.953\" y=\"-106.8\" font-family=\"Helvetica,sans-Serif\" font-size=\"14.00\">class = versicolor</text>\n",
       "</g>\n",
       "<!-- 0&#45;&gt;2 -->\n",
       "<g id=\"edge2\" class=\"edge\"><title>0&#45;&gt;2</title>\n",
       "<path fill=\"none\" stroke=\"black\" d=\"M167.602,-213.769C173.988,-204.939 180.85,-195.451 187.456,-186.318\"/>\n",
       "<polygon fill=\"black\" stroke=\"black\" points=\"190.404,-188.213 193.429,-178.058 184.732,-184.11 190.404,-188.213\"/>\n",
       "<text text-anchor=\"middle\" x=\"197.393\" y=\"-198.542\" font-family=\"Helvetica,sans-Serif\" font-size=\"14.00\">False</text>\n",
       "</g>\n",
       "<!-- 3 -->\n",
       "<g id=\"node4\" class=\"node\"><title>3</title>\n",
       "<path fill=\"#39e581\" fill-opacity=\"0.898039\" stroke=\"black\" d=\"M200.708,-64C200.708,-64 101.198,-64 101.198,-64 95.198,-64 89.198,-58 89.198,-52 89.198,-52 89.198,-12 89.198,-12 89.198,-6 95.198,-0 101.198,-0 101.198,-0 200.708,-0 200.708,-0 206.708,-0 212.708,-6 212.708,-12 212.708,-12 212.708,-52 212.708,-52 212.708,-58 206.708,-64 200.708,-64\"/>\n",
       "<text text-anchor=\"middle\" x=\"150.953\" y=\"-48.8\" font-family=\"Helvetica,sans-Serif\" font-size=\"14.00\">gini = 0.168</text>\n",
       "<text text-anchor=\"middle\" x=\"150.953\" y=\"-34.8\" font-family=\"Helvetica,sans-Serif\" font-size=\"14.00\">samples = 54</text>\n",
       "<text text-anchor=\"middle\" x=\"150.953\" y=\"-20.8\" font-family=\"Helvetica,sans-Serif\" font-size=\"14.00\">value = [0, 49, 5]</text>\n",
       "<text text-anchor=\"middle\" x=\"150.953\" y=\"-6.8\" font-family=\"Helvetica,sans-Serif\" font-size=\"14.00\">class = versicolor</text>\n",
       "</g>\n",
       "<!-- 2&#45;&gt;3 -->\n",
       "<g id=\"edge3\" class=\"edge\"><title>2&#45;&gt;3</title>\n",
       "<path fill=\"none\" stroke=\"black\" d=\"M195.484,-99.7956C189.559,-90.9084 183.24,-81.4296 177.279,-72.4883\"/>\n",
       "<polygon fill=\"black\" stroke=\"black\" points=\"180.157,-70.4962 171.698,-64.1172 174.333,-74.3792 180.157,-70.4962\"/>\n",
       "</g>\n",
       "<!-- 4 -->\n",
       "<g id=\"node5\" class=\"node\"><title>4</title>\n",
       "<path fill=\"#8139e5\" fill-opacity=\"0.976471\" stroke=\"black\" d=\"M338.859,-64C338.859,-64 243.047,-64 243.047,-64 237.047,-64 231.047,-58 231.047,-52 231.047,-52 231.047,-12 231.047,-12 231.047,-6 237.047,-0 243.047,-0 243.047,-0 338.859,-0 338.859,-0 344.859,-0 350.859,-6 350.859,-12 350.859,-12 350.859,-52 350.859,-52 350.859,-58 344.859,-64 338.859,-64\"/>\n",
       "<text text-anchor=\"middle\" x=\"290.953\" y=\"-48.8\" font-family=\"Helvetica,sans-Serif\" font-size=\"14.00\">gini = 0.043</text>\n",
       "<text text-anchor=\"middle\" x=\"290.953\" y=\"-34.8\" font-family=\"Helvetica,sans-Serif\" font-size=\"14.00\">samples = 46</text>\n",
       "<text text-anchor=\"middle\" x=\"290.953\" y=\"-20.8\" font-family=\"Helvetica,sans-Serif\" font-size=\"14.00\">value = [0, 1, 45]</text>\n",
       "<text text-anchor=\"middle\" x=\"290.953\" y=\"-6.8\" font-family=\"Helvetica,sans-Serif\" font-size=\"14.00\">class = virginica</text>\n",
       "</g>\n",
       "<!-- 2&#45;&gt;4 -->\n",
       "<g id=\"edge4\" class=\"edge\"><title>2&#45;&gt;4</title>\n",
       "<path fill=\"none\" stroke=\"black\" d=\"M246.423,-99.7956C252.348,-90.9084 258.667,-81.4296 264.628,-72.4883\"/>\n",
       "<polygon fill=\"black\" stroke=\"black\" points=\"267.573,-74.3792 270.208,-64.1172 261.749,-70.4962 267.573,-74.3792\"/>\n",
       "</g>\n",
       "</g>\n",
       "</svg>\n"
      ],
      "text/plain": [
       "<graphviz.files.Source at 0x128367390>"
      ]
     },
     "execution_count": 6,
     "metadata": {},
     "output_type": "execute_result"
    }
   ],
   "source": [
    "dot_data = export_graphviz(\n",
    "    tree_clf,\n",
    "    out_file=None,\n",
    "    feature_names=iris.feature_names[2:],\n",
    "    class_names=iris.target_names,\n",
    "    rounded=True,\n",
    "    filled=True\n",
    ")\n",
    "\n",
    "graph = graphviz.Source(dot_data)  \n",
    "\n",
    "graph"
   ]
  },
  {
   "cell_type": "markdown",
   "metadata": {},
   "source": [
    "## Function for Plotting Decision Bounday \n",
    "\n",
    "\n",
    "To better understand how Decision Tree classifier creates decision boundary, we need to **<font color=red size=6> visualize </font>** it.\n",
    "\n",
    "\n",
    "We define the function \"decision_boundary_decision_tree\" to plot the decision boundary. \n",
    "\n"
   ]
  },
  {
   "cell_type": "code",
   "execution_count": 33,
   "metadata": {
    "collapsed": true
   },
   "outputs": [],
   "source": [
    "def decision_boundary_decision_tree(clf, X, colorBar=False):\n",
    "    \n",
    "    # Get the min and max value of feature x1\n",
    "    x1min, x1max = X[:,0].min() - 0.5, X[:, 0].max() + 0.5\n",
    "    \n",
    "    # Get the min and max value of feature x2\n",
    "    x2min, x2max = X[:,1].min() - 0.5, X[:, 1].max() + 0.5\n",
    "    \n",
    "    # Create the mesh grid\n",
    "    x1s = np.linspace(x1min, x1max, 100)\n",
    "    x2s = np.linspace(x2min, x2max, 100)\n",
    "    x1, x2 = np.meshgrid(x1s, x2s)\n",
    "    \n",
    "    \n",
    "    # Create pairs of new points from the grid\n",
    "    X_new = np.c_[x1.ravel(), x2.ravel()]\n",
    "    \n",
    "    \n",
    "    # Compute the class predictions for all new points\n",
    "    y_pred = clf.predict(X_new).reshape(x1.shape)\n",
    "    \n",
    "    \n",
    "    # Generate the contourf plot for the predictions\n",
    "    plt.contourf(x1, x2, y_pred, cmap=plt.cm.bwr, alpha=0.2)\n",
    "    \n",
    "    \n",
    "    if(colorBar==True):\n",
    "        plt.colorbar()   "
   ]
  },
  {
   "cell_type": "markdown",
   "metadata": {},
   "source": [
    "## Plot The Decision Boundary"
   ]
  },
  {
   "cell_type": "code",
   "execution_count": 45,
   "metadata": {
    "collapsed": false
   },
   "outputs": [
    {
     "data": {
      "image/png": "[encoded data removed]",
      "text/plain": [
       "<Figure size 864x576 with 1 Axes>"
      ]
     },
     "metadata": {},
     "output_type": "display_data"
    }
   ],
   "source": [
    "plt.figure(figsize=(12, 8))\n",
    "decision_boundary_decision_tree(tree_clf, X)\n",
    "\n",
    "plt.plot(X[:, 0][y==0], X[:, 1][y==0], \"yo\", label=\"Iris-Setosa\")\n",
    "plt.plot(X[:, 0][y==1], X[:, 1][y==1], \"bs\", label=\"Iris-Versicolor\")\n",
    "plt.plot(X[:, 0][y==2], X[:, 1][y==2], \"g^\", label=\"Iris-Virginica\")\n",
    "plt.xlabel(\"Petal length\", fontsize=14)\n",
    "plt.ylabel(\"Petal width\", fontsize=14)\n",
    "plt.legend(loc=\"lower right\", fontsize=14)\n",
    "\n",
    "plt.show()"
   ]
  },
  {
   "cell_type": "markdown",
   "metadata": {},
   "source": [
    "## Estimating Class Probabilities\n",
    "\n",
    "\n",
    "A Decision Tree can also estimate the probability that an instance belongs to a particular class k. For this we will use the classifiers \"predict_proba\" method.\n",
    "\n",
    "First it traverses the tree to find the leaf node for this instance, and then it returns the ratio of training instances of class k in this node. \n",
    "\n",
    "For example, suppose you have found a flower whose petals are 2 cm long and 2 cm wide. \n",
    "\n",
    "The corresponding leaf node is the depth-1 left node, so the Decision Tree should output the following probabilities: \n",
    "\n",
    "- 100% for Iris-Setosa (50/50)\n",
    "- 0% for Iris-Versicolor (0/50)\n",
    "- 0% for Iris-Virginica (0/50). \n",
    "\n",
    "We can predict the class as well by using the classifiers \"predict\" method."
   ]
  },
  {
   "cell_type": "code",
   "execution_count": 36,
   "metadata": {
    "collapsed": false
   },
   "outputs": [
    {
     "name": "stdout",
     "output_type": "stream",
     "text": [
      "[[1. 0. 0.]]\n",
      "Predicted Class:  [0]\n",
      "[[0.         0.02173913 0.97826087]]\n",
      "Predicted Class:  [2]\n"
     ]
    },
    {
     "data": {
      "image/svg+xml": [
       "<?xml version=\"1.0\" encoding=\"UTF-8\" standalone=\"no\"?>\n",
       "<!DOCTYPE svg PUBLIC \"-//W3C//DTD SVG 1.1//EN\"\n",
       " \"http://www.w3.org/Graphics/SVG/1.1/DTD/svg11.dtd\">\n",
       "<!-- Generated by graphviz version 2.38.0 (20140413.2041)\n",
       " -->\n",
       "<!-- Title: Tree Pages: 1 -->\n",
       "<svg width=\"359pt\" height=\"300pt\"\n",
       " viewBox=\"0.00 0.00 358.91 300.00\" xmlns=\"http://www.w3.org/2000/svg\" xmlns:xlink=\"http://www.w3.org/1999/xlink\">\n",
       "<g id=\"graph0\" class=\"graph\" transform=\"scale(1 1) rotate(0) translate(4 296)\">\n",
       "<title>Tree</title>\n",
       "<polygon fill=\"white\" stroke=\"none\" points=\"-4,4 -4,-296 354.906,-296 354.906,4 -4,4\"/>\n",
       "<!-- 0 -->\n",
       "<g id=\"node1\" class=\"node\"><title>0</title>\n",
       "<path fill=\"none\" stroke=\"black\" d=\"M213.601,-292C213.601,-292 66.3053,-292 66.3053,-292 60.3053,-292 54.3053,-286 54.3053,-280 54.3053,-280 54.3053,-226 54.3053,-226 54.3053,-220 60.3053,-214 66.3053,-214 66.3053,-214 213.601,-214 213.601,-214 219.601,-214 225.601,-220 225.601,-226 225.601,-226 225.601,-280 225.601,-280 225.601,-286 219.601,-292 213.601,-292\"/>\n",
       "<text text-anchor=\"middle\" x=\"139.953\" y=\"-276.8\" font-family=\"Helvetica,sans-Serif\" font-size=\"14.00\">petal length (cm) &lt;= 2.45</text>\n",
       "<text text-anchor=\"middle\" x=\"139.953\" y=\"-262.8\" font-family=\"Helvetica,sans-Serif\" font-size=\"14.00\">gini = 0.667</text>\n",
       "<text text-anchor=\"middle\" x=\"139.953\" y=\"-248.8\" font-family=\"Helvetica,sans-Serif\" font-size=\"14.00\">samples = 150</text>\n",
       "<text text-anchor=\"middle\" x=\"139.953\" y=\"-234.8\" font-family=\"Helvetica,sans-Serif\" font-size=\"14.00\">value = [50, 50, 50]</text>\n",
       "<text text-anchor=\"middle\" x=\"139.953\" y=\"-220.8\" font-family=\"Helvetica,sans-Serif\" font-size=\"14.00\">class = setosa</text>\n",
       "</g>\n",
       "<!-- 1 -->\n",
       "<g id=\"node2\" class=\"node\"><title>1</title>\n",
       "<path fill=\"#e58139\" stroke=\"black\" d=\"M107.859,-171C107.859,-171 12.0468,-171 12.0468,-171 6.04684,-171 0.0468384,-165 0.0468384,-159 0.0468384,-159 0.0468384,-119 0.0468384,-119 0.0468384,-113 6.04684,-107 12.0468,-107 12.0468,-107 107.859,-107 107.859,-107 113.859,-107 119.859,-113 119.859,-119 119.859,-119 119.859,-159 119.859,-159 119.859,-165 113.859,-171 107.859,-171\"/>\n",
       "<text text-anchor=\"middle\" x=\"59.9531\" y=\"-155.8\" font-family=\"Helvetica,sans-Serif\" font-size=\"14.00\">gini = 0.0</text>\n",
       "<text text-anchor=\"middle\" x=\"59.9531\" y=\"-141.8\" font-family=\"Helvetica,sans-Serif\" font-size=\"14.00\">samples = 50</text>\n",
       "<text text-anchor=\"middle\" x=\"59.9531\" y=\"-127.8\" font-family=\"Helvetica,sans-Serif\" font-size=\"14.00\">value = [50, 0, 0]</text>\n",
       "<text text-anchor=\"middle\" x=\"59.9531\" y=\"-113.8\" font-family=\"Helvetica,sans-Serif\" font-size=\"14.00\">class = setosa</text>\n",
       "</g>\n",
       "<!-- 0&#45;&gt;1 -->\n",
       "<g id=\"edge1\" class=\"edge\"><title>0&#45;&gt;1</title>\n",
       "<path fill=\"none\" stroke=\"black\" d=\"M112.645,-213.769C104.71,-202.66 96.0311,-190.509 88.0482,-179.333\"/>\n",
       "<polygon fill=\"black\" stroke=\"black\" points=\"90.7636,-177.113 82.1032,-171.01 85.0675,-181.182 90.7636,-177.113\"/>\n",
       "<text text-anchor=\"middle\" x=\"77.9932\" y=\"-191.47\" font-family=\"Helvetica,sans-Serif\" font-size=\"14.00\">True</text>\n",
       "</g>\n",
       "<!-- 2 -->\n",
       "<g id=\"node3\" class=\"node\"><title>2</title>\n",
       "<path fill=\"none\" stroke=\"black\" d=\"M292.139,-178C292.139,-178 149.767,-178 149.767,-178 143.767,-178 137.767,-172 137.767,-166 137.767,-166 137.767,-112 137.767,-112 137.767,-106 143.767,-100 149.767,-100 149.767,-100 292.139,-100 292.139,-100 298.139,-100 304.139,-106 304.139,-112 304.139,-112 304.139,-166 304.139,-166 304.139,-172 298.139,-178 292.139,-178\"/>\n",
       "<text text-anchor=\"middle\" x=\"220.953\" y=\"-162.8\" font-family=\"Helvetica,sans-Serif\" font-size=\"14.00\">petal width (cm) &lt;= 1.75</text>\n",
       "<text text-anchor=\"middle\" x=\"220.953\" y=\"-148.8\" font-family=\"Helvetica,sans-Serif\" font-size=\"14.00\">gini = 0.5</text>\n",
       "<text text-anchor=\"middle\" x=\"220.953\" y=\"-134.8\" font-family=\"Helvetica,sans-Serif\" font-size=\"14.00\">samples = 100</text>\n",
       "<text text-anchor=\"middle\" x=\"220.953\" y=\"-120.8\" font-family=\"Helvetica,sans-Serif\" font-size=\"14.00\">value = [0, 50, 50]</text>\n",
       "<text text-anchor=\"middle\" x=\"220.953\" y=\"-106.8\" font-family=\"Helvetica,sans-Serif\" font-size=\"14.00\">class = versicolor</text>\n",
       "</g>\n",
       "<!-- 0&#45;&gt;2 -->\n",
       "<g id=\"edge2\" class=\"edge\"><title>0&#45;&gt;2</title>\n",
       "<path fill=\"none\" stroke=\"black\" d=\"M167.602,-213.769C173.988,-204.939 180.85,-195.451 187.456,-186.318\"/>\n",
       "<polygon fill=\"black\" stroke=\"black\" points=\"190.404,-188.213 193.429,-178.058 184.732,-184.11 190.404,-188.213\"/>\n",
       "<text text-anchor=\"middle\" x=\"197.393\" y=\"-198.542\" font-family=\"Helvetica,sans-Serif\" font-size=\"14.00\">False</text>\n",
       "</g>\n",
       "<!-- 3 -->\n",
       "<g id=\"node4\" class=\"node\"><title>3</title>\n",
       "<path fill=\"#39e581\" fill-opacity=\"0.898039\" stroke=\"black\" d=\"M200.708,-64C200.708,-64 101.198,-64 101.198,-64 95.198,-64 89.198,-58 89.198,-52 89.198,-52 89.198,-12 89.198,-12 89.198,-6 95.198,-0 101.198,-0 101.198,-0 200.708,-0 200.708,-0 206.708,-0 212.708,-6 212.708,-12 212.708,-12 212.708,-52 212.708,-52 212.708,-58 206.708,-64 200.708,-64\"/>\n",
       "<text text-anchor=\"middle\" x=\"150.953\" y=\"-48.8\" font-family=\"Helvetica,sans-Serif\" font-size=\"14.00\">gini = 0.168</text>\n",
       "<text text-anchor=\"middle\" x=\"150.953\" y=\"-34.8\" font-family=\"Helvetica,sans-Serif\" font-size=\"14.00\">samples = 54</text>\n",
       "<text text-anchor=\"middle\" x=\"150.953\" y=\"-20.8\" font-family=\"Helvetica,sans-Serif\" font-size=\"14.00\">value = [0, 49, 5]</text>\n",
       "<text text-anchor=\"middle\" x=\"150.953\" y=\"-6.8\" font-family=\"Helvetica,sans-Serif\" font-size=\"14.00\">class = versicolor</text>\n",
       "</g>\n",
       "<!-- 2&#45;&gt;3 -->\n",
       "<g id=\"edge3\" class=\"edge\"><title>2&#45;&gt;3</title>\n",
       "<path fill=\"none\" stroke=\"black\" d=\"M195.484,-99.7956C189.559,-90.9084 183.24,-81.4296 177.279,-72.4883\"/>\n",
       "<polygon fill=\"black\" stroke=\"black\" points=\"180.157,-70.4962 171.698,-64.1172 174.333,-74.3792 180.157,-70.4962\"/>\n",
       "</g>\n",
       "<!-- 4 -->\n",
       "<g id=\"node5\" class=\"node\"><title>4</title>\n",
       "<path fill=\"#8139e5\" fill-opacity=\"0.976471\" stroke=\"black\" d=\"M338.859,-64C338.859,-64 243.047,-64 243.047,-64 237.047,-64 231.047,-58 231.047,-52 231.047,-52 231.047,-12 231.047,-12 231.047,-6 237.047,-0 243.047,-0 243.047,-0 338.859,-0 338.859,-0 344.859,-0 350.859,-6 350.859,-12 350.859,-12 350.859,-52 350.859,-52 350.859,-58 344.859,-64 338.859,-64\"/>\n",
       "<text text-anchor=\"middle\" x=\"290.953\" y=\"-48.8\" font-family=\"Helvetica,sans-Serif\" font-size=\"14.00\">gini = 0.043</text>\n",
       "<text text-anchor=\"middle\" x=\"290.953\" y=\"-34.8\" font-family=\"Helvetica,sans-Serif\" font-size=\"14.00\">samples = 46</text>\n",
       "<text text-anchor=\"middle\" x=\"290.953\" y=\"-20.8\" font-family=\"Helvetica,sans-Serif\" font-size=\"14.00\">value = [0, 1, 45]</text>\n",
       "<text text-anchor=\"middle\" x=\"290.953\" y=\"-6.8\" font-family=\"Helvetica,sans-Serif\" font-size=\"14.00\">class = virginica</text>\n",
       "</g>\n",
       "<!-- 2&#45;&gt;4 -->\n",
       "<g id=\"edge4\" class=\"edge\"><title>2&#45;&gt;4</title>\n",
       "<path fill=\"none\" stroke=\"black\" d=\"M246.423,-99.7956C252.348,-90.9084 258.667,-81.4296 264.628,-72.4883\"/>\n",
       "<polygon fill=\"black\" stroke=\"black\" points=\"267.573,-74.3792 270.208,-64.1172 261.749,-70.4962 267.573,-74.3792\"/>\n",
       "</g>\n",
       "</g>\n",
       "</svg>\n"
      ],
      "text/plain": [
       "<graphviz.files.Source at 0x12b5e5be0>"
      ]
     },
     "execution_count": 36,
     "metadata": {},
     "output_type": "execute_result"
    }
   ],
   "source": [
    "print(tree_clf.predict_proba([[2, 2]]))\n",
    "print(\"Predicted Class: \", tree_clf.predict([[2, 2]]))\n",
    "\n",
    "print(tree_clf.predict_proba([[3, 1.9]]))\n",
    "print(\"Predicted Class: \", tree_clf.predict([[3, 1.9]]))\n",
    "\n",
    "graph"
   ]
  },
  {
   "cell_type": "markdown",
   "metadata": {},
   "source": [
    "## Main Limitation\n",
    "\n",
    "\n",
    "The main issue with Decision Trees is that they are **very sensitive to small variations** in the training data. \n",
    "\n",
    "To illustrate this we will remove the widest Iris-Versicolor from the iris training set (the one with petals 4.8 cm long and 1.8 cm wide) and train a new Decision Tree.\n",
    "\n",
    "We will see that the decision boundary will look very different from the previous Decision Tree. \n",
    "\n",
    "A consequence of this is: previously a flower with 2 cm petal length and 2 cm petal width was identified as a Setosa. But the new model will ideitify it as Virginica."
   ]
  },
  {
   "cell_type": "code",
   "execution_count": 46,
   "metadata": {
    "collapsed": false
   },
   "outputs": [
    {
     "name": "stdout",
     "output_type": "stream",
     "text": [
      "Widest Versicolor:  [[4.8 1.8]]\n"
     ]
    },
    {
     "data": {
      "text/plain": [
       "DecisionTreeClassifier(class_weight=None, criterion='gini', max_depth=2,\n",
       "            max_features=None, max_leaf_nodes=None,\n",
       "            min_impurity_decrease=0.0, min_impurity_split=None,\n",
       "            min_samples_leaf=1, min_samples_split=2,\n",
       "            min_weight_fraction_leaf=0.0, presort=False, random_state=40,\n",
       "            splitter='best')"
      ]
     },
     "execution_count": 46,
     "metadata": {},
     "output_type": "execute_result"
    }
   ],
   "source": [
    "# Get the widest Versicolor\n",
    "print(\"Widest Versicolor: \", X[(X[:, 1]==X[:, 1][y==1].max()) & (y==1)]) \n",
    "\n",
    "not_widest_versicolor = (X[:, 1]!=1.8) | (y==2)\n",
    "\n",
    "# Get the data without the wodest Versicolor\n",
    "X_no_widest_versicolor = X[not_widest_versicolor]\n",
    "y_no_widest_versicolor = y[not_widest_versicolor]\n",
    "\n",
    "tree_clf_no_widest_versicolor = DecisionTreeClassifier(max_depth=2, random_state=40)\n",
    "tree_clf_no_widest_versicolor.fit(X_no_widest_versicolor, y_no_widest_versicolor)"
   ]
  },
  {
   "cell_type": "code",
   "execution_count": 47,
   "metadata": {
    "collapsed": false
   },
   "outputs": [
    {
     "data": {
      "image/png": "[encoded data removed]",
      "text/plain": [
       "<Figure size 1152x576 with 2 Axes>"
      ]
     },
     "metadata": {},
     "output_type": "display_data"
    }
   ],
   "source": [
    "plt.figure(figsize=(16, 8))\n",
    "\n",
    "plt.subplot(121)\n",
    "decision_boundary_decision_tree(tree_clf, X)\n",
    "\n",
    "plt.plot(X[:, 0][y==0], X[:, 1][y==0], \"yo\", label=\"Iris-Setosa\")\n",
    "plt.plot(X[:, 0][y==1], X[:, 1][y==1], \"bs\", label=\"Iris-Versicolor\")\n",
    "plt.plot(X[:, 0][y==2], X[:, 1][y==2], \"g^\", label=\"Iris-Virginica\")\n",
    "plt.title(\"Original Dataset\", fontsize=14)\n",
    "plt.xlabel(\"Petal length\", fontsize=14)\n",
    "plt.ylabel(\"Petal width\", fontsize=14)\n",
    "plt.legend(loc=\"lower right\", fontsize=14)\n",
    "\n",
    "plt.subplot(122)\n",
    "decision_boundary_decision_tree(tree_clf_no_widest_versicolor, X)\n",
    "\n",
    "plt.plot(X[:, 0][y==0], X[:, 1][y==0], \"yo\", label=\"Iris-Setosa\")\n",
    "plt.plot(X[:, 0][y==1], X[:, 1][y==1], \"bs\", label=\"Iris-Versicolor\")\n",
    "plt.plot(X[:, 0][y==2], X[:, 1][y==2], \"g^\", label=\"Iris-Virginica\")\n",
    "plt.title(\"Dataset Without Widest Versicolor\", fontsize=14)\n",
    "\n",
    "plt.show()"
   ]
  },
  {
   "cell_type": "markdown",
   "metadata": {},
   "source": [
    "## Consequence of Removing the Widest Versicolor\n",
    "\n",
    "Previously a flower with 2 cm petal length and 2 cm petal width was identified as a **Setosa (class 0)**. \n",
    "\n",
    "But the new model will ideitify it as **Virginica (class 2)**."
   ]
  },
  {
   "cell_type": "code",
   "execution_count": 41,
   "metadata": {
    "collapsed": false
   },
   "outputs": [
    {
     "name": "stdout",
     "output_type": "stream",
     "text": [
      "Prediction for a New Flower: Length & Width 2 cm\n",
      "Original Model:\n",
      "[[1. 0. 0.]]\n",
      "Predicted Class:  [0]\n",
      "\n",
      "Tweaked Model:\n",
      "[[0. 0. 1.]]\n",
      "Predicted Class:  [2]\n"
     ]
    }
   ],
   "source": [
    "print(\"Prediction for a New Flower: Length & Width 2 cm\")\n",
    "\n",
    "print(\"Original Model:\")\n",
    "print(tree_clf.predict_proba([[2, 2]]))\n",
    "print(\"Predicted Class: \", tree_clf.predict([[2, 2]]))\n",
    "\n",
    "\n",
    "print(\"\\nTweaked Model:\")\n",
    "print(tree_clf_no_widest_versicolor.predict_proba([[2, 2]]))\n",
    "print(\"Predicted Class: \", tree_clf_no_widest_versicolor.predict([[2, 2]]))"
   ]
  }
 ],
 "metadata": {
  "anaconda-cloud": {},
  "kernelspec": {
   "display_name": "Python [conda root]",
   "language": "python",
   "name": "conda-root-py"
  },
  "language_info": {
   "codemirror_mode": {
    "name": "ipython",
    "version": 3
   },
   "file_extension": ".py",
   "mimetype": "text/x-python",
   "name": "python",
   "nbconvert_exporter": "python",
   "pygments_lexer": "ipython3",
   "version": "3.5.2"
  }
 },
 "nbformat": 4,
 "nbformat_minor": 1
}
